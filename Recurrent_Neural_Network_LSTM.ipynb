{
  "nbformat": 4,
  "nbformat_minor": 0,
  "metadata": {
    "colab": {
      "name": "Recurrent Neural Network-LSTM.ipynb",
      "provenance": [],
      "collapsed_sections": [],
      "authorship_tag": "ABX9TyPurQsVLxR8uMWXrLyONP0L",
      "include_colab_link": true
    },
    "kernelspec": {
      "name": "python3",
      "display_name": "Python 3"
    },
    "language_info": {
      "name": "python"
    },
    "accelerator": "GPU"
  },
  "cells": [
    {
      "cell_type": "markdown",
      "metadata": {
        "id": "view-in-github",
        "colab_type": "text"
      },
      "source": [
        "<a href=\"https://colab.research.google.com/github/faruk17035/Deep-Learning-Models/blob/main/Recurrent_Neural_Network_LSTM.ipynb\" target=\"_parent\"><img src=\"https://colab.research.google.com/assets/colab-badge.svg\" alt=\"Open In Colab\"/></a>"
      ]
    },
    {
      "cell_type": "markdown",
      "metadata": {
        "id": "WNMeVQPvCqOH"
      },
      "source": [
        "**Part 1 - Data Preprocessing**"
      ]
    },
    {
      "cell_type": "code",
      "metadata": {
        "id": "ZQS3x05nCYcY"
      },
      "source": [
        "import numpy as np\n",
        "import matplotlib.pyplot as plt\n",
        "import pandas as pd"
      ],
      "execution_count": 2,
      "outputs": []
    },
    {
      "cell_type": "code",
      "metadata": {
        "colab": {
          "base_uri": "https://localhost:8080/"
        },
        "id": "9JfKPUXXCwQE",
        "outputId": "daacffdd-0c48-495c-a0e4-bf16c3db0854"
      },
      "source": [
        "from google.colab import drive \n",
        "drive.mount('/content/gdrive')"
      ],
      "execution_count": 3,
      "outputs": [
        {
          "output_type": "stream",
          "name": "stdout",
          "text": [
            "Mounted at /content/gdrive\n"
          ]
        }
      ]
    },
    {
      "cell_type": "code",
      "metadata": {
        "colab": {
          "base_uri": "https://localhost:8080/"
        },
        "id": "D2gGXEcrC8gg",
        "outputId": "5cc10194-88a3-4c4b-be18-ba1cc92ad281"
      },
      "source": [
        "import pandas as pd\n",
        "from pandas import read_excel\n",
        "df = '/content/gdrive/MyDrive/LSTM/Google_Stock_Price_Train.csv' \n",
        "dataset_train = pd.read_csv(df)\n",
        "#df = pd.read_csv(file_name, index_col=0)\n",
        "#df = pd.read_csv(file_name)\n",
        "#print(df.head()) # print the first 5 rows\n",
        "training_set = dataset_train.iloc[:, 1:2].values\n",
        "print(training_set)\n"
      ],
      "execution_count": 17,
      "outputs": [
        {
          "output_type": "stream",
          "name": "stdout",
          "text": [
            "[[325.25]\n",
            " [331.27]\n",
            " [329.83]\n",
            " ...\n",
            " [793.7 ]\n",
            " [783.33]\n",
            " [782.75]]\n"
          ]
        }
      ]
    },
    {
      "cell_type": "markdown",
      "metadata": {
        "id": "19vU_PS4GdaE"
      },
      "source": [
        "## Feature Scaling"
      ]
    },
    {
      "cell_type": "code",
      "metadata": {
        "id": "KpoUUqzDDXGB"
      },
      "source": [
        "from sklearn.preprocessing import MinMaxScaler\n",
        "sc = MinMaxScaler(feature_range = (0, 1))\n",
        "training_set_scaled = sc.fit_transform(training_set)"
      ],
      "execution_count": 18,
      "outputs": []
    },
    {
      "cell_type": "markdown",
      "metadata": {
        "id": "hrH1VnSoJnXC"
      },
      "source": [
        "## Creating a data structure with 60 timesteps and 1 output"
      ]
    },
    {
      "cell_type": "code",
      "metadata": {
        "id": "ugqDSH_PGg9_"
      },
      "source": [
        "X_train = []\n",
        "y_train = []\n",
        "for i in range(60, 1258):\n",
        "    X_train.append(training_set_scaled[i-60:i, 0])\n",
        "    y_train.append(training_set_scaled[i, 0])\n",
        "X_train, y_train = np.array(X_train), np.array(y_train)"
      ],
      "execution_count": 19,
      "outputs": []
    },
    {
      "cell_type": "code",
      "metadata": {
        "colab": {
          "base_uri": "https://localhost:8080/"
        },
        "id": "UrZSJI9MJqqT",
        "outputId": "a32258e8-fec5-4f30-d80a-cd23e06463dd"
      },
      "source": [
        "X_train"
      ],
      "execution_count": 20,
      "outputs": [
        {
          "output_type": "execute_result",
          "data": {
            "text/plain": [
              "array([[0.08581368, 0.09701243, 0.09433366, ..., 0.07846566, 0.08034452,\n",
              "        0.08497656],\n",
              "       [0.09701243, 0.09433366, 0.09156187, ..., 0.08034452, 0.08497656,\n",
              "        0.08627874],\n",
              "       [0.09433366, 0.09156187, 0.07984225, ..., 0.08497656, 0.08627874,\n",
              "        0.08471612],\n",
              "       ...,\n",
              "       [0.92106928, 0.92438053, 0.93048218, ..., 0.95475854, 0.95204256,\n",
              "        0.95163331],\n",
              "       [0.92438053, 0.93048218, 0.9299055 , ..., 0.95204256, 0.95163331,\n",
              "        0.95725128],\n",
              "       [0.93048218, 0.9299055 , 0.93113327, ..., 0.95163331, 0.95725128,\n",
              "        0.93796041]])"
            ]
          },
          "metadata": {},
          "execution_count": 20
        }
      ]
    },
    {
      "cell_type": "code",
      "metadata": {
        "colab": {
          "base_uri": "https://localhost:8080/",
          "height": 444
        },
        "id": "vHzvlXLKJsK1",
        "outputId": "5a6405fa-6829-4f6f-ce8d-0c943eb999e2"
      },
      "source": [
        "df1 = pd.DataFrame(X_train)\n",
        "df1"
      ],
      "execution_count": 21,
      "outputs": [
        {
          "output_type": "execute_result",
          "data": {
            "text/html": [
              "<div>\n",
              "<style scoped>\n",
              "    .dataframe tbody tr th:only-of-type {\n",
              "        vertical-align: middle;\n",
              "    }\n",
              "\n",
              "    .dataframe tbody tr th {\n",
              "        vertical-align: top;\n",
              "    }\n",
              "\n",
              "    .dataframe thead th {\n",
              "        text-align: right;\n",
              "    }\n",
              "</style>\n",
              "<table border=\"1\" class=\"dataframe\">\n",
              "  <thead>\n",
              "    <tr style=\"text-align: right;\">\n",
              "      <th></th>\n",
              "      <th>0</th>\n",
              "      <th>1</th>\n",
              "      <th>2</th>\n",
              "      <th>3</th>\n",
              "      <th>4</th>\n",
              "      <th>5</th>\n",
              "      <th>6</th>\n",
              "      <th>7</th>\n",
              "      <th>8</th>\n",
              "      <th>9</th>\n",
              "      <th>10</th>\n",
              "      <th>11</th>\n",
              "      <th>12</th>\n",
              "      <th>13</th>\n",
              "      <th>14</th>\n",
              "      <th>15</th>\n",
              "      <th>16</th>\n",
              "      <th>17</th>\n",
              "      <th>18</th>\n",
              "      <th>19</th>\n",
              "      <th>20</th>\n",
              "      <th>21</th>\n",
              "      <th>22</th>\n",
              "      <th>23</th>\n",
              "      <th>24</th>\n",
              "      <th>25</th>\n",
              "      <th>26</th>\n",
              "      <th>27</th>\n",
              "      <th>28</th>\n",
              "      <th>29</th>\n",
              "      <th>30</th>\n",
              "      <th>31</th>\n",
              "      <th>32</th>\n",
              "      <th>33</th>\n",
              "      <th>34</th>\n",
              "      <th>35</th>\n",
              "      <th>36</th>\n",
              "      <th>37</th>\n",
              "      <th>38</th>\n",
              "      <th>39</th>\n",
              "      <th>40</th>\n",
              "      <th>41</th>\n",
              "      <th>42</th>\n",
              "      <th>43</th>\n",
              "      <th>44</th>\n",
              "      <th>45</th>\n",
              "      <th>46</th>\n",
              "      <th>47</th>\n",
              "      <th>48</th>\n",
              "      <th>49</th>\n",
              "      <th>50</th>\n",
              "      <th>51</th>\n",
              "      <th>52</th>\n",
              "      <th>53</th>\n",
              "      <th>54</th>\n",
              "      <th>55</th>\n",
              "      <th>56</th>\n",
              "      <th>57</th>\n",
              "      <th>58</th>\n",
              "      <th>59</th>\n",
              "    </tr>\n",
              "  </thead>\n",
              "  <tbody>\n",
              "    <tr>\n",
              "      <th>0</th>\n",
              "      <td>0.085814</td>\n",
              "      <td>0.097012</td>\n",
              "      <td>0.094334</td>\n",
              "      <td>0.091562</td>\n",
              "      <td>0.079842</td>\n",
              "      <td>0.064328</td>\n",
              "      <td>0.058542</td>\n",
              "      <td>0.065686</td>\n",
              "      <td>0.061091</td>\n",
              "      <td>0.066393</td>\n",
              "      <td>0.061426</td>\n",
              "      <td>0.074745</td>\n",
              "      <td>0.027978</td>\n",
              "      <td>0.023793</td>\n",
              "      <td>0.024090</td>\n",
              "      <td>0.015924</td>\n",
              "      <td>0.010789</td>\n",
              "      <td>0.009673</td>\n",
              "      <td>0.016426</td>\n",
              "      <td>0.021002</td>\n",
              "      <td>0.022807</td>\n",
              "      <td>0.022732</td>\n",
              "      <td>0.028108</td>\n",
              "      <td>0.032127</td>\n",
              "      <td>0.043381</td>\n",
              "      <td>0.044758</td>\n",
              "      <td>0.047902</td>\n",
              "      <td>0.044069</td>\n",
              "      <td>0.046488</td>\n",
              "      <td>0.047455</td>\n",
              "      <td>0.048739</td>\n",
              "      <td>0.039363</td>\n",
              "      <td>0.041372</td>\n",
              "      <td>0.040349</td>\n",
              "      <td>0.047846</td>\n",
              "      <td>0.043251</td>\n",
              "      <td>0.043567</td>\n",
              "      <td>0.042860</td>\n",
              "      <td>0.046023</td>\n",
              "      <td>0.053985</td>\n",
              "      <td>0.057389</td>\n",
              "      <td>0.057147</td>\n",
              "      <td>0.055696</td>\n",
              "      <td>0.044218</td>\n",
              "      <td>0.045148</td>\n",
              "      <td>0.046060</td>\n",
              "      <td>0.044125</td>\n",
              "      <td>0.036759</td>\n",
              "      <td>0.044869</td>\n",
              "      <td>0.050655</td>\n",
              "      <td>0.052143</td>\n",
              "      <td>0.056124</td>\n",
              "      <td>0.058189</td>\n",
              "      <td>0.065407</td>\n",
              "      <td>0.068830</td>\n",
              "      <td>0.072438</td>\n",
              "      <td>0.079935</td>\n",
              "      <td>0.078466</td>\n",
              "      <td>0.080345</td>\n",
              "      <td>0.084977</td>\n",
              "    </tr>\n",
              "    <tr>\n",
              "      <th>1</th>\n",
              "      <td>0.097012</td>\n",
              "      <td>0.094334</td>\n",
              "      <td>0.091562</td>\n",
              "      <td>0.079842</td>\n",
              "      <td>0.064328</td>\n",
              "      <td>0.058542</td>\n",
              "      <td>0.065686</td>\n",
              "      <td>0.061091</td>\n",
              "      <td>0.066393</td>\n",
              "      <td>0.061426</td>\n",
              "      <td>0.074745</td>\n",
              "      <td>0.027978</td>\n",
              "      <td>0.023793</td>\n",
              "      <td>0.024090</td>\n",
              "      <td>0.015924</td>\n",
              "      <td>0.010789</td>\n",
              "      <td>0.009673</td>\n",
              "      <td>0.016426</td>\n",
              "      <td>0.021002</td>\n",
              "      <td>0.022807</td>\n",
              "      <td>0.022732</td>\n",
              "      <td>0.028108</td>\n",
              "      <td>0.032127</td>\n",
              "      <td>0.043381</td>\n",
              "      <td>0.044758</td>\n",
              "      <td>0.047902</td>\n",
              "      <td>0.044069</td>\n",
              "      <td>0.046488</td>\n",
              "      <td>0.047455</td>\n",
              "      <td>0.048739</td>\n",
              "      <td>0.039363</td>\n",
              "      <td>0.041372</td>\n",
              "      <td>0.040349</td>\n",
              "      <td>0.047846</td>\n",
              "      <td>0.043251</td>\n",
              "      <td>0.043567</td>\n",
              "      <td>0.042860</td>\n",
              "      <td>0.046023</td>\n",
              "      <td>0.053985</td>\n",
              "      <td>0.057389</td>\n",
              "      <td>0.057147</td>\n",
              "      <td>0.055696</td>\n",
              "      <td>0.044218</td>\n",
              "      <td>0.045148</td>\n",
              "      <td>0.046060</td>\n",
              "      <td>0.044125</td>\n",
              "      <td>0.036759</td>\n",
              "      <td>0.044869</td>\n",
              "      <td>0.050655</td>\n",
              "      <td>0.052143</td>\n",
              "      <td>0.056124</td>\n",
              "      <td>0.058189</td>\n",
              "      <td>0.065407</td>\n",
              "      <td>0.068830</td>\n",
              "      <td>0.072438</td>\n",
              "      <td>0.079935</td>\n",
              "      <td>0.078466</td>\n",
              "      <td>0.080345</td>\n",
              "      <td>0.084977</td>\n",
              "      <td>0.086279</td>\n",
              "    </tr>\n",
              "    <tr>\n",
              "      <th>2</th>\n",
              "      <td>0.094334</td>\n",
              "      <td>0.091562</td>\n",
              "      <td>0.079842</td>\n",
              "      <td>0.064328</td>\n",
              "      <td>0.058542</td>\n",
              "      <td>0.065686</td>\n",
              "      <td>0.061091</td>\n",
              "      <td>0.066393</td>\n",
              "      <td>0.061426</td>\n",
              "      <td>0.074745</td>\n",
              "      <td>0.027978</td>\n",
              "      <td>0.023793</td>\n",
              "      <td>0.024090</td>\n",
              "      <td>0.015924</td>\n",
              "      <td>0.010789</td>\n",
              "      <td>0.009673</td>\n",
              "      <td>0.016426</td>\n",
              "      <td>0.021002</td>\n",
              "      <td>0.022807</td>\n",
              "      <td>0.022732</td>\n",
              "      <td>0.028108</td>\n",
              "      <td>0.032127</td>\n",
              "      <td>0.043381</td>\n",
              "      <td>0.044758</td>\n",
              "      <td>0.047902</td>\n",
              "      <td>0.044069</td>\n",
              "      <td>0.046488</td>\n",
              "      <td>0.047455</td>\n",
              "      <td>0.048739</td>\n",
              "      <td>0.039363</td>\n",
              "      <td>0.041372</td>\n",
              "      <td>0.040349</td>\n",
              "      <td>0.047846</td>\n",
              "      <td>0.043251</td>\n",
              "      <td>0.043567</td>\n",
              "      <td>0.042860</td>\n",
              "      <td>0.046023</td>\n",
              "      <td>0.053985</td>\n",
              "      <td>0.057389</td>\n",
              "      <td>0.057147</td>\n",
              "      <td>0.055696</td>\n",
              "      <td>0.044218</td>\n",
              "      <td>0.045148</td>\n",
              "      <td>0.046060</td>\n",
              "      <td>0.044125</td>\n",
              "      <td>0.036759</td>\n",
              "      <td>0.044869</td>\n",
              "      <td>0.050655</td>\n",
              "      <td>0.052143</td>\n",
              "      <td>0.056124</td>\n",
              "      <td>0.058189</td>\n",
              "      <td>0.065407</td>\n",
              "      <td>0.068830</td>\n",
              "      <td>0.072438</td>\n",
              "      <td>0.079935</td>\n",
              "      <td>0.078466</td>\n",
              "      <td>0.080345</td>\n",
              "      <td>0.084977</td>\n",
              "      <td>0.086279</td>\n",
              "      <td>0.084716</td>\n",
              "    </tr>\n",
              "    <tr>\n",
              "      <th>3</th>\n",
              "      <td>0.091562</td>\n",
              "      <td>0.079842</td>\n",
              "      <td>0.064328</td>\n",
              "      <td>0.058542</td>\n",
              "      <td>0.065686</td>\n",
              "      <td>0.061091</td>\n",
              "      <td>0.066393</td>\n",
              "      <td>0.061426</td>\n",
              "      <td>0.074745</td>\n",
              "      <td>0.027978</td>\n",
              "      <td>0.023793</td>\n",
              "      <td>0.024090</td>\n",
              "      <td>0.015924</td>\n",
              "      <td>0.010789</td>\n",
              "      <td>0.009673</td>\n",
              "      <td>0.016426</td>\n",
              "      <td>0.021002</td>\n",
              "      <td>0.022807</td>\n",
              "      <td>0.022732</td>\n",
              "      <td>0.028108</td>\n",
              "      <td>0.032127</td>\n",
              "      <td>0.043381</td>\n",
              "      <td>0.044758</td>\n",
              "      <td>0.047902</td>\n",
              "      <td>0.044069</td>\n",
              "      <td>0.046488</td>\n",
              "      <td>0.047455</td>\n",
              "      <td>0.048739</td>\n",
              "      <td>0.039363</td>\n",
              "      <td>0.041372</td>\n",
              "      <td>0.040349</td>\n",
              "      <td>0.047846</td>\n",
              "      <td>0.043251</td>\n",
              "      <td>0.043567</td>\n",
              "      <td>0.042860</td>\n",
              "      <td>0.046023</td>\n",
              "      <td>0.053985</td>\n",
              "      <td>0.057389</td>\n",
              "      <td>0.057147</td>\n",
              "      <td>0.055696</td>\n",
              "      <td>0.044218</td>\n",
              "      <td>0.045148</td>\n",
              "      <td>0.046060</td>\n",
              "      <td>0.044125</td>\n",
              "      <td>0.036759</td>\n",
              "      <td>0.044869</td>\n",
              "      <td>0.050655</td>\n",
              "      <td>0.052143</td>\n",
              "      <td>0.056124</td>\n",
              "      <td>0.058189</td>\n",
              "      <td>0.065407</td>\n",
              "      <td>0.068830</td>\n",
              "      <td>0.072438</td>\n",
              "      <td>0.079935</td>\n",
              "      <td>0.078466</td>\n",
              "      <td>0.080345</td>\n",
              "      <td>0.084977</td>\n",
              "      <td>0.086279</td>\n",
              "      <td>0.084716</td>\n",
              "      <td>0.074541</td>\n",
              "    </tr>\n",
              "    <tr>\n",
              "      <th>4</th>\n",
              "      <td>0.079842</td>\n",
              "      <td>0.064328</td>\n",
              "      <td>0.058542</td>\n",
              "      <td>0.065686</td>\n",
              "      <td>0.061091</td>\n",
              "      <td>0.066393</td>\n",
              "      <td>0.061426</td>\n",
              "      <td>0.074745</td>\n",
              "      <td>0.027978</td>\n",
              "      <td>0.023793</td>\n",
              "      <td>0.024090</td>\n",
              "      <td>0.015924</td>\n",
              "      <td>0.010789</td>\n",
              "      <td>0.009673</td>\n",
              "      <td>0.016426</td>\n",
              "      <td>0.021002</td>\n",
              "      <td>0.022807</td>\n",
              "      <td>0.022732</td>\n",
              "      <td>0.028108</td>\n",
              "      <td>0.032127</td>\n",
              "      <td>0.043381</td>\n",
              "      <td>0.044758</td>\n",
              "      <td>0.047902</td>\n",
              "      <td>0.044069</td>\n",
              "      <td>0.046488</td>\n",
              "      <td>0.047455</td>\n",
              "      <td>0.048739</td>\n",
              "      <td>0.039363</td>\n",
              "      <td>0.041372</td>\n",
              "      <td>0.040349</td>\n",
              "      <td>0.047846</td>\n",
              "      <td>0.043251</td>\n",
              "      <td>0.043567</td>\n",
              "      <td>0.042860</td>\n",
              "      <td>0.046023</td>\n",
              "      <td>0.053985</td>\n",
              "      <td>0.057389</td>\n",
              "      <td>0.057147</td>\n",
              "      <td>0.055696</td>\n",
              "      <td>0.044218</td>\n",
              "      <td>0.045148</td>\n",
              "      <td>0.046060</td>\n",
              "      <td>0.044125</td>\n",
              "      <td>0.036759</td>\n",
              "      <td>0.044869</td>\n",
              "      <td>0.050655</td>\n",
              "      <td>0.052143</td>\n",
              "      <td>0.056124</td>\n",
              "      <td>0.058189</td>\n",
              "      <td>0.065407</td>\n",
              "      <td>0.068830</td>\n",
              "      <td>0.072438</td>\n",
              "      <td>0.079935</td>\n",
              "      <td>0.078466</td>\n",
              "      <td>0.080345</td>\n",
              "      <td>0.084977</td>\n",
              "      <td>0.086279</td>\n",
              "      <td>0.084716</td>\n",
              "      <td>0.074541</td>\n",
              "      <td>0.078838</td>\n",
              "    </tr>\n",
              "    <tr>\n",
              "      <th>...</th>\n",
              "      <td>...</td>\n",
              "      <td>...</td>\n",
              "      <td>...</td>\n",
              "      <td>...</td>\n",
              "      <td>...</td>\n",
              "      <td>...</td>\n",
              "      <td>...</td>\n",
              "      <td>...</td>\n",
              "      <td>...</td>\n",
              "      <td>...</td>\n",
              "      <td>...</td>\n",
              "      <td>...</td>\n",
              "      <td>...</td>\n",
              "      <td>...</td>\n",
              "      <td>...</td>\n",
              "      <td>...</td>\n",
              "      <td>...</td>\n",
              "      <td>...</td>\n",
              "      <td>...</td>\n",
              "      <td>...</td>\n",
              "      <td>...</td>\n",
              "      <td>...</td>\n",
              "      <td>...</td>\n",
              "      <td>...</td>\n",
              "      <td>...</td>\n",
              "      <td>...</td>\n",
              "      <td>...</td>\n",
              "      <td>...</td>\n",
              "      <td>...</td>\n",
              "      <td>...</td>\n",
              "      <td>...</td>\n",
              "      <td>...</td>\n",
              "      <td>...</td>\n",
              "      <td>...</td>\n",
              "      <td>...</td>\n",
              "      <td>...</td>\n",
              "      <td>...</td>\n",
              "      <td>...</td>\n",
              "      <td>...</td>\n",
              "      <td>...</td>\n",
              "      <td>...</td>\n",
              "      <td>...</td>\n",
              "      <td>...</td>\n",
              "      <td>...</td>\n",
              "      <td>...</td>\n",
              "      <td>...</td>\n",
              "      <td>...</td>\n",
              "      <td>...</td>\n",
              "      <td>...</td>\n",
              "      <td>...</td>\n",
              "      <td>...</td>\n",
              "      <td>...</td>\n",
              "      <td>...</td>\n",
              "      <td>...</td>\n",
              "      <td>...</td>\n",
              "      <td>...</td>\n",
              "      <td>...</td>\n",
              "      <td>...</td>\n",
              "      <td>...</td>\n",
              "      <td>...</td>\n",
              "    </tr>\n",
              "    <tr>\n",
              "      <th>1193</th>\n",
              "      <td>0.934445</td>\n",
              "      <td>0.924939</td>\n",
              "      <td>0.921069</td>\n",
              "      <td>0.924381</td>\n",
              "      <td>0.930482</td>\n",
              "      <td>0.929905</td>\n",
              "      <td>0.931133</td>\n",
              "      <td>0.927506</td>\n",
              "      <td>0.944155</td>\n",
              "      <td>0.938760</td>\n",
              "      <td>0.934035</td>\n",
              "      <td>0.934835</td>\n",
              "      <td>0.931394</td>\n",
              "      <td>0.946369</td>\n",
              "      <td>0.965697</td>\n",
              "      <td>0.975110</td>\n",
              "      <td>0.959670</td>\n",
              "      <td>0.978086</td>\n",
              "      <td>1.000000</td>\n",
              "      <td>0.980765</td>\n",
              "      <td>0.970831</td>\n",
              "      <td>0.984504</td>\n",
              "      <td>0.960544</td>\n",
              "      <td>0.937142</td>\n",
              "      <td>0.928417</td>\n",
              "      <td>0.908047</td>\n",
              "      <td>0.877186</td>\n",
              "      <td>0.921534</td>\n",
              "      <td>0.938091</td>\n",
              "      <td>0.931654</td>\n",
              "      <td>0.952545</td>\n",
              "      <td>0.888124</td>\n",
              "      <td>0.886375</td>\n",
              "      <td>0.870321</td>\n",
              "      <td>0.885631</td>\n",
              "      <td>0.907434</td>\n",
              "      <td>0.915712</td>\n",
              "      <td>0.899416</td>\n",
              "      <td>0.918056</td>\n",
              "      <td>0.908940</td>\n",
              "      <td>0.902485</td>\n",
              "      <td>0.894561</td>\n",
              "      <td>0.916009</td>\n",
              "      <td>0.913293</td>\n",
              "      <td>0.889798</td>\n",
              "      <td>0.865894</td>\n",
              "      <td>0.890301</td>\n",
              "      <td>0.903360</td>\n",
              "      <td>0.896421</td>\n",
              "      <td>0.917777</td>\n",
              "      <td>0.931766</td>\n",
              "      <td>0.941141</td>\n",
              "      <td>0.957623</td>\n",
              "      <td>0.964134</td>\n",
              "      <td>0.964023</td>\n",
              "      <td>0.969715</td>\n",
              "      <td>0.950778</td>\n",
              "      <td>0.962944</td>\n",
              "      <td>0.961232</td>\n",
              "      <td>0.954759</td>\n",
              "    </tr>\n",
              "    <tr>\n",
              "      <th>1194</th>\n",
              "      <td>0.924939</td>\n",
              "      <td>0.921069</td>\n",
              "      <td>0.924381</td>\n",
              "      <td>0.930482</td>\n",
              "      <td>0.929905</td>\n",
              "      <td>0.931133</td>\n",
              "      <td>0.927506</td>\n",
              "      <td>0.944155</td>\n",
              "      <td>0.938760</td>\n",
              "      <td>0.934035</td>\n",
              "      <td>0.934835</td>\n",
              "      <td>0.931394</td>\n",
              "      <td>0.946369</td>\n",
              "      <td>0.965697</td>\n",
              "      <td>0.975110</td>\n",
              "      <td>0.959670</td>\n",
              "      <td>0.978086</td>\n",
              "      <td>1.000000</td>\n",
              "      <td>0.980765</td>\n",
              "      <td>0.970831</td>\n",
              "      <td>0.984504</td>\n",
              "      <td>0.960544</td>\n",
              "      <td>0.937142</td>\n",
              "      <td>0.928417</td>\n",
              "      <td>0.908047</td>\n",
              "      <td>0.877186</td>\n",
              "      <td>0.921534</td>\n",
              "      <td>0.938091</td>\n",
              "      <td>0.931654</td>\n",
              "      <td>0.952545</td>\n",
              "      <td>0.888124</td>\n",
              "      <td>0.886375</td>\n",
              "      <td>0.870321</td>\n",
              "      <td>0.885631</td>\n",
              "      <td>0.907434</td>\n",
              "      <td>0.915712</td>\n",
              "      <td>0.899416</td>\n",
              "      <td>0.918056</td>\n",
              "      <td>0.908940</td>\n",
              "      <td>0.902485</td>\n",
              "      <td>0.894561</td>\n",
              "      <td>0.916009</td>\n",
              "      <td>0.913293</td>\n",
              "      <td>0.889798</td>\n",
              "      <td>0.865894</td>\n",
              "      <td>0.890301</td>\n",
              "      <td>0.903360</td>\n",
              "      <td>0.896421</td>\n",
              "      <td>0.917777</td>\n",
              "      <td>0.931766</td>\n",
              "      <td>0.941141</td>\n",
              "      <td>0.957623</td>\n",
              "      <td>0.964134</td>\n",
              "      <td>0.964023</td>\n",
              "      <td>0.969715</td>\n",
              "      <td>0.950778</td>\n",
              "      <td>0.962944</td>\n",
              "      <td>0.961232</td>\n",
              "      <td>0.954759</td>\n",
              "      <td>0.952043</td>\n",
              "    </tr>\n",
              "    <tr>\n",
              "      <th>1195</th>\n",
              "      <td>0.921069</td>\n",
              "      <td>0.924381</td>\n",
              "      <td>0.930482</td>\n",
              "      <td>0.929905</td>\n",
              "      <td>0.931133</td>\n",
              "      <td>0.927506</td>\n",
              "      <td>0.944155</td>\n",
              "      <td>0.938760</td>\n",
              "      <td>0.934035</td>\n",
              "      <td>0.934835</td>\n",
              "      <td>0.931394</td>\n",
              "      <td>0.946369</td>\n",
              "      <td>0.965697</td>\n",
              "      <td>0.975110</td>\n",
              "      <td>0.959670</td>\n",
              "      <td>0.978086</td>\n",
              "      <td>1.000000</td>\n",
              "      <td>0.980765</td>\n",
              "      <td>0.970831</td>\n",
              "      <td>0.984504</td>\n",
              "      <td>0.960544</td>\n",
              "      <td>0.937142</td>\n",
              "      <td>0.928417</td>\n",
              "      <td>0.908047</td>\n",
              "      <td>0.877186</td>\n",
              "      <td>0.921534</td>\n",
              "      <td>0.938091</td>\n",
              "      <td>0.931654</td>\n",
              "      <td>0.952545</td>\n",
              "      <td>0.888124</td>\n",
              "      <td>0.886375</td>\n",
              "      <td>0.870321</td>\n",
              "      <td>0.885631</td>\n",
              "      <td>0.907434</td>\n",
              "      <td>0.915712</td>\n",
              "      <td>0.899416</td>\n",
              "      <td>0.918056</td>\n",
              "      <td>0.908940</td>\n",
              "      <td>0.902485</td>\n",
              "      <td>0.894561</td>\n",
              "      <td>0.916009</td>\n",
              "      <td>0.913293</td>\n",
              "      <td>0.889798</td>\n",
              "      <td>0.865894</td>\n",
              "      <td>0.890301</td>\n",
              "      <td>0.903360</td>\n",
              "      <td>0.896421</td>\n",
              "      <td>0.917777</td>\n",
              "      <td>0.931766</td>\n",
              "      <td>0.941141</td>\n",
              "      <td>0.957623</td>\n",
              "      <td>0.964134</td>\n",
              "      <td>0.964023</td>\n",
              "      <td>0.969715</td>\n",
              "      <td>0.950778</td>\n",
              "      <td>0.962944</td>\n",
              "      <td>0.961232</td>\n",
              "      <td>0.954759</td>\n",
              "      <td>0.952043</td>\n",
              "      <td>0.951633</td>\n",
              "    </tr>\n",
              "    <tr>\n",
              "      <th>1196</th>\n",
              "      <td>0.924381</td>\n",
              "      <td>0.930482</td>\n",
              "      <td>0.929905</td>\n",
              "      <td>0.931133</td>\n",
              "      <td>0.927506</td>\n",
              "      <td>0.944155</td>\n",
              "      <td>0.938760</td>\n",
              "      <td>0.934035</td>\n",
              "      <td>0.934835</td>\n",
              "      <td>0.931394</td>\n",
              "      <td>0.946369</td>\n",
              "      <td>0.965697</td>\n",
              "      <td>0.975110</td>\n",
              "      <td>0.959670</td>\n",
              "      <td>0.978086</td>\n",
              "      <td>1.000000</td>\n",
              "      <td>0.980765</td>\n",
              "      <td>0.970831</td>\n",
              "      <td>0.984504</td>\n",
              "      <td>0.960544</td>\n",
              "      <td>0.937142</td>\n",
              "      <td>0.928417</td>\n",
              "      <td>0.908047</td>\n",
              "      <td>0.877186</td>\n",
              "      <td>0.921534</td>\n",
              "      <td>0.938091</td>\n",
              "      <td>0.931654</td>\n",
              "      <td>0.952545</td>\n",
              "      <td>0.888124</td>\n",
              "      <td>0.886375</td>\n",
              "      <td>0.870321</td>\n",
              "      <td>0.885631</td>\n",
              "      <td>0.907434</td>\n",
              "      <td>0.915712</td>\n",
              "      <td>0.899416</td>\n",
              "      <td>0.918056</td>\n",
              "      <td>0.908940</td>\n",
              "      <td>0.902485</td>\n",
              "      <td>0.894561</td>\n",
              "      <td>0.916009</td>\n",
              "      <td>0.913293</td>\n",
              "      <td>0.889798</td>\n",
              "      <td>0.865894</td>\n",
              "      <td>0.890301</td>\n",
              "      <td>0.903360</td>\n",
              "      <td>0.896421</td>\n",
              "      <td>0.917777</td>\n",
              "      <td>0.931766</td>\n",
              "      <td>0.941141</td>\n",
              "      <td>0.957623</td>\n",
              "      <td>0.964134</td>\n",
              "      <td>0.964023</td>\n",
              "      <td>0.969715</td>\n",
              "      <td>0.950778</td>\n",
              "      <td>0.962944</td>\n",
              "      <td>0.961232</td>\n",
              "      <td>0.954759</td>\n",
              "      <td>0.952043</td>\n",
              "      <td>0.951633</td>\n",
              "      <td>0.957251</td>\n",
              "    </tr>\n",
              "    <tr>\n",
              "      <th>1197</th>\n",
              "      <td>0.930482</td>\n",
              "      <td>0.929905</td>\n",
              "      <td>0.931133</td>\n",
              "      <td>0.927506</td>\n",
              "      <td>0.944155</td>\n",
              "      <td>0.938760</td>\n",
              "      <td>0.934035</td>\n",
              "      <td>0.934835</td>\n",
              "      <td>0.931394</td>\n",
              "      <td>0.946369</td>\n",
              "      <td>0.965697</td>\n",
              "      <td>0.975110</td>\n",
              "      <td>0.959670</td>\n",
              "      <td>0.978086</td>\n",
              "      <td>1.000000</td>\n",
              "      <td>0.980765</td>\n",
              "      <td>0.970831</td>\n",
              "      <td>0.984504</td>\n",
              "      <td>0.960544</td>\n",
              "      <td>0.937142</td>\n",
              "      <td>0.928417</td>\n",
              "      <td>0.908047</td>\n",
              "      <td>0.877186</td>\n",
              "      <td>0.921534</td>\n",
              "      <td>0.938091</td>\n",
              "      <td>0.931654</td>\n",
              "      <td>0.952545</td>\n",
              "      <td>0.888124</td>\n",
              "      <td>0.886375</td>\n",
              "      <td>0.870321</td>\n",
              "      <td>0.885631</td>\n",
              "      <td>0.907434</td>\n",
              "      <td>0.915712</td>\n",
              "      <td>0.899416</td>\n",
              "      <td>0.918056</td>\n",
              "      <td>0.908940</td>\n",
              "      <td>0.902485</td>\n",
              "      <td>0.894561</td>\n",
              "      <td>0.916009</td>\n",
              "      <td>0.913293</td>\n",
              "      <td>0.889798</td>\n",
              "      <td>0.865894</td>\n",
              "      <td>0.890301</td>\n",
              "      <td>0.903360</td>\n",
              "      <td>0.896421</td>\n",
              "      <td>0.917777</td>\n",
              "      <td>0.931766</td>\n",
              "      <td>0.941141</td>\n",
              "      <td>0.957623</td>\n",
              "      <td>0.964134</td>\n",
              "      <td>0.964023</td>\n",
              "      <td>0.969715</td>\n",
              "      <td>0.950778</td>\n",
              "      <td>0.962944</td>\n",
              "      <td>0.961232</td>\n",
              "      <td>0.954759</td>\n",
              "      <td>0.952043</td>\n",
              "      <td>0.951633</td>\n",
              "      <td>0.957251</td>\n",
              "      <td>0.937960</td>\n",
              "    </tr>\n",
              "  </tbody>\n",
              "</table>\n",
              "<p>1198 rows × 60 columns</p>\n",
              "</div>"
            ],
            "text/plain": [
              "            0         1         2   ...        57        58        59\n",
              "0     0.085814  0.097012  0.094334  ...  0.078466  0.080345  0.084977\n",
              "1     0.097012  0.094334  0.091562  ...  0.080345  0.084977  0.086279\n",
              "2     0.094334  0.091562  0.079842  ...  0.084977  0.086279  0.084716\n",
              "3     0.091562  0.079842  0.064328  ...  0.086279  0.084716  0.074541\n",
              "4     0.079842  0.064328  0.058542  ...  0.084716  0.074541  0.078838\n",
              "...        ...       ...       ...  ...       ...       ...       ...\n",
              "1193  0.934445  0.924939  0.921069  ...  0.962944  0.961232  0.954759\n",
              "1194  0.924939  0.921069  0.924381  ...  0.961232  0.954759  0.952043\n",
              "1195  0.921069  0.924381  0.930482  ...  0.954759  0.952043  0.951633\n",
              "1196  0.924381  0.930482  0.929905  ...  0.952043  0.951633  0.957251\n",
              "1197  0.930482  0.929905  0.931133  ...  0.951633  0.957251  0.937960\n",
              "\n",
              "[1198 rows x 60 columns]"
            ]
          },
          "metadata": {},
          "execution_count": 21
        }
      ]
    },
    {
      "cell_type": "code",
      "metadata": {
        "colab": {
          "base_uri": "https://localhost:8080/"
        },
        "id": "93XA-wmVKBbe",
        "outputId": "25c543ae-ded4-41c0-fd4f-2bbeb71f2429"
      },
      "source": [
        "y_train"
      ],
      "execution_count": 22,
      "outputs": [
        {
          "output_type": "execute_result",
          "data": {
            "text/plain": [
              "array([0.08627874, 0.08471612, 0.07454052, ..., 0.95725128, 0.93796041,\n",
              "       0.93688146])"
            ]
          },
          "metadata": {},
          "execution_count": 22
        }
      ]
    },
    {
      "cell_type": "code",
      "metadata": {
        "colab": {
          "base_uri": "https://localhost:8080/",
          "height": 424
        },
        "id": "zLP-NzvjLPWl",
        "outputId": "de27419b-cef1-46c1-cc97-4e8015e84f47"
      },
      "source": [
        "df2 = pd.DataFrame(y_train)\n",
        "df2"
      ],
      "execution_count": 23,
      "outputs": [
        {
          "output_type": "execute_result",
          "data": {
            "text/html": [
              "<div>\n",
              "<style scoped>\n",
              "    .dataframe tbody tr th:only-of-type {\n",
              "        vertical-align: middle;\n",
              "    }\n",
              "\n",
              "    .dataframe tbody tr th {\n",
              "        vertical-align: top;\n",
              "    }\n",
              "\n",
              "    .dataframe thead th {\n",
              "        text-align: right;\n",
              "    }\n",
              "</style>\n",
              "<table border=\"1\" class=\"dataframe\">\n",
              "  <thead>\n",
              "    <tr style=\"text-align: right;\">\n",
              "      <th></th>\n",
              "      <th>0</th>\n",
              "    </tr>\n",
              "  </thead>\n",
              "  <tbody>\n",
              "    <tr>\n",
              "      <th>0</th>\n",
              "      <td>0.086279</td>\n",
              "    </tr>\n",
              "    <tr>\n",
              "      <th>1</th>\n",
              "      <td>0.084716</td>\n",
              "    </tr>\n",
              "    <tr>\n",
              "      <th>2</th>\n",
              "      <td>0.074541</td>\n",
              "    </tr>\n",
              "    <tr>\n",
              "      <th>3</th>\n",
              "      <td>0.078838</td>\n",
              "    </tr>\n",
              "    <tr>\n",
              "      <th>4</th>\n",
              "      <td>0.072383</td>\n",
              "    </tr>\n",
              "    <tr>\n",
              "      <th>...</th>\n",
              "      <td>...</td>\n",
              "    </tr>\n",
              "    <tr>\n",
              "      <th>1193</th>\n",
              "      <td>0.952043</td>\n",
              "    </tr>\n",
              "    <tr>\n",
              "      <th>1194</th>\n",
              "      <td>0.951633</td>\n",
              "    </tr>\n",
              "    <tr>\n",
              "      <th>1195</th>\n",
              "      <td>0.957251</td>\n",
              "    </tr>\n",
              "    <tr>\n",
              "      <th>1196</th>\n",
              "      <td>0.937960</td>\n",
              "    </tr>\n",
              "    <tr>\n",
              "      <th>1197</th>\n",
              "      <td>0.936881</td>\n",
              "    </tr>\n",
              "  </tbody>\n",
              "</table>\n",
              "<p>1198 rows × 1 columns</p>\n",
              "</div>"
            ],
            "text/plain": [
              "             0\n",
              "0     0.086279\n",
              "1     0.084716\n",
              "2     0.074541\n",
              "3     0.078838\n",
              "4     0.072383\n",
              "...        ...\n",
              "1193  0.952043\n",
              "1194  0.951633\n",
              "1195  0.957251\n",
              "1196  0.937960\n",
              "1197  0.936881\n",
              "\n",
              "[1198 rows x 1 columns]"
            ]
          },
          "metadata": {},
          "execution_count": 23
        }
      ]
    },
    {
      "cell_type": "markdown",
      "metadata": {
        "id": "x3ThkvjCSFmH"
      },
      "source": [
        "### Reshaping"
      ]
    },
    {
      "cell_type": "code",
      "metadata": {
        "id": "IzTqsBzWLZlH"
      },
      "source": [
        "X_train = np.reshape(X_train, (X_train.shape[0], X_train.shape[1], 1))"
      ],
      "execution_count": 24,
      "outputs": []
    },
    {
      "cell_type": "markdown",
      "metadata": {
        "id": "93RuebGOSPJ5"
      },
      "source": [
        "**Part 2 - Building and Training the RNN**"
      ]
    },
    {
      "cell_type": "code",
      "metadata": {
        "id": "BaWOO8uhSJ9l"
      },
      "source": [
        "from keras.models import Sequential\n",
        "from keras.layers import Dense\n",
        "from keras.layers import LSTM\n",
        "from keras.layers import Dropout"
      ],
      "execution_count": 25,
      "outputs": []
    },
    {
      "cell_type": "markdown",
      "metadata": {
        "id": "fJGf3_LsYO3i"
      },
      "source": [
        "#### initialising the RNN"
      ]
    },
    {
      "cell_type": "code",
      "metadata": {
        "id": "wpX_T5ggTfep"
      },
      "source": [
        "regressor = Sequential()"
      ],
      "execution_count": 26,
      "outputs": []
    },
    {
      "cell_type": "markdown",
      "metadata": {
        "id": "nQEw6cpOZFE7"
      },
      "source": [
        "### Adding the first LSTM layer and some Dropout regularisation"
      ]
    },
    {
      "cell_type": "code",
      "metadata": {
        "id": "uwOnytzvY6KD"
      },
      "source": [
        "regressor.add(LSTM(units = 50, return_sequences = True, input_shape = (X_train.shape[1], 1)))\n",
        "regressor.add(Dropout(0.2))"
      ],
      "execution_count": 27,
      "outputs": []
    },
    {
      "cell_type": "markdown",
      "metadata": {
        "id": "IQHjVor8elfn"
      },
      "source": [
        "### Adding a second LSTM layer and some Dropout regularisation"
      ]
    },
    {
      "cell_type": "code",
      "metadata": {
        "id": "QCVkAXWEeGW-"
      },
      "source": [
        "regressor.add(LSTM(units = 50, return_sequences = True))\n",
        "regressor.add(Dropout(0.2))"
      ],
      "execution_count": 28,
      "outputs": []
    },
    {
      "cell_type": "markdown",
      "metadata": {
        "id": "y6JhnMGDg_Mn"
      },
      "source": [
        "### Adding a third LSTM layer and some Dropout regularisation"
      ]
    },
    {
      "cell_type": "code",
      "metadata": {
        "id": "7794dTHgf2y4"
      },
      "source": [
        "regressor.add(LSTM(units = 50, return_sequences = True))\n",
        "regressor.add(Dropout(0.2))"
      ],
      "execution_count": 29,
      "outputs": []
    },
    {
      "cell_type": "markdown",
      "metadata": {
        "id": "9dJkcy7MliD4"
      },
      "source": [
        "### Adding a fourth LSTM layer and some Dropout regularisation"
      ]
    },
    {
      "cell_type": "code",
      "metadata": {
        "id": "9yL7R_OElBbt"
      },
      "source": [
        "regressor.add(LSTM(units = 50))\n",
        "regressor.add(Dropout(0.2))"
      ],
      "execution_count": 30,
      "outputs": []
    },
    {
      "cell_type": "markdown",
      "metadata": {
        "id": "wSh-8E2zpgN0"
      },
      "source": [
        "### Adding the output layer"
      ]
    },
    {
      "cell_type": "code",
      "metadata": {
        "id": "2mwbTwlSllYL"
      },
      "source": [
        "regressor.add(Dense(units = 1))"
      ],
      "execution_count": 31,
      "outputs": []
    },
    {
      "cell_type": "markdown",
      "metadata": {
        "id": "6NCulcD0qQOa"
      },
      "source": [
        "### Compiling the RNN"
      ]
    },
    {
      "cell_type": "code",
      "metadata": {
        "id": "EbaU_EJupkE9"
      },
      "source": [
        "regressor.compile(optimizer = 'adam', loss = 'mean_squared_error')"
      ],
      "execution_count": 32,
      "outputs": []
    },
    {
      "cell_type": "markdown",
      "metadata": {
        "id": "Yc69gaztrEDk"
      },
      "source": [
        "### Fitting the RNN to the Training set"
      ]
    },
    {
      "cell_type": "code",
      "metadata": {
        "colab": {
          "base_uri": "https://localhost:8080/"
        },
        "id": "-Km0EHKPqtX4",
        "outputId": "5c89e35e-ddec-4384-c1b6-67108c8da23c"
      },
      "source": [
        "regressor.fit(X_train, y_train, epochs = 100, batch_size = 32)"
      ],
      "execution_count": 33,
      "outputs": [
        {
          "output_type": "stream",
          "name": "stdout",
          "text": [
            "Epoch 1/100\n",
            "38/38 [==============================] - 13s 60ms/step - loss: 0.0462\n",
            "Epoch 2/100\n",
            "38/38 [==============================] - 2s 61ms/step - loss: 0.0066\n",
            "Epoch 3/100\n",
            "38/38 [==============================] - 2s 61ms/step - loss: 0.0055\n",
            "Epoch 4/100\n",
            "38/38 [==============================] - 2s 61ms/step - loss: 0.0055\n",
            "Epoch 5/100\n",
            "38/38 [==============================] - 2s 61ms/step - loss: 0.0051\n",
            "Epoch 6/100\n",
            "38/38 [==============================] - 2s 61ms/step - loss: 0.0048\n",
            "Epoch 7/100\n",
            "38/38 [==============================] - 2s 61ms/step - loss: 0.0048\n",
            "Epoch 8/100\n",
            "38/38 [==============================] - 2s 61ms/step - loss: 0.0046\n",
            "Epoch 9/100\n",
            "38/38 [==============================] - 2s 60ms/step - loss: 0.0043\n",
            "Epoch 10/100\n",
            "38/38 [==============================] - 2s 61ms/step - loss: 0.0045\n",
            "Epoch 11/100\n",
            "38/38 [==============================] - 2s 61ms/step - loss: 0.0048\n",
            "Epoch 12/100\n",
            "38/38 [==============================] - 2s 61ms/step - loss: 0.0037\n",
            "Epoch 13/100\n",
            "38/38 [==============================] - 2s 61ms/step - loss: 0.0037\n",
            "Epoch 14/100\n",
            "38/38 [==============================] - 2s 60ms/step - loss: 0.0040\n",
            "Epoch 15/100\n",
            "38/38 [==============================] - 2s 61ms/step - loss: 0.0041\n",
            "Epoch 16/100\n",
            "38/38 [==============================] - 2s 61ms/step - loss: 0.0036\n",
            "Epoch 17/100\n",
            "38/38 [==============================] - 2s 61ms/step - loss: 0.0041\n",
            "Epoch 18/100\n",
            "38/38 [==============================] - 2s 61ms/step - loss: 0.0039\n",
            "Epoch 19/100\n",
            "38/38 [==============================] - 2s 61ms/step - loss: 0.0034\n",
            "Epoch 20/100\n",
            "38/38 [==============================] - 2s 61ms/step - loss: 0.0033\n",
            "Epoch 21/100\n",
            "38/38 [==============================] - 2s 61ms/step - loss: 0.0036\n",
            "Epoch 22/100\n",
            "38/38 [==============================] - 2s 61ms/step - loss: 0.0037\n",
            "Epoch 23/100\n",
            "38/38 [==============================] - 2s 60ms/step - loss: 0.0032\n",
            "Epoch 24/100\n",
            "38/38 [==============================] - 2s 60ms/step - loss: 0.0032\n",
            "Epoch 25/100\n",
            "38/38 [==============================] - 2s 61ms/step - loss: 0.0034\n",
            "Epoch 26/100\n",
            "38/38 [==============================] - 2s 61ms/step - loss: 0.0029\n",
            "Epoch 27/100\n",
            "38/38 [==============================] - 2s 60ms/step - loss: 0.0030\n",
            "Epoch 28/100\n",
            "38/38 [==============================] - 2s 60ms/step - loss: 0.0031\n",
            "Epoch 29/100\n",
            "38/38 [==============================] - 2s 61ms/step - loss: 0.0029\n",
            "Epoch 30/100\n",
            "38/38 [==============================] - 2s 61ms/step - loss: 0.0035\n",
            "Epoch 31/100\n",
            "38/38 [==============================] - 2s 60ms/step - loss: 0.0030\n",
            "Epoch 32/100\n",
            "38/38 [==============================] - 2s 61ms/step - loss: 0.0027\n",
            "Epoch 33/100\n",
            "38/38 [==============================] - 2s 61ms/step - loss: 0.0028\n",
            "Epoch 34/100\n",
            "38/38 [==============================] - 2s 61ms/step - loss: 0.0030\n",
            "Epoch 35/100\n",
            "38/38 [==============================] - 2s 61ms/step - loss: 0.0032\n",
            "Epoch 36/100\n",
            "38/38 [==============================] - 2s 61ms/step - loss: 0.0028\n",
            "Epoch 37/100\n",
            "38/38 [==============================] - 2s 60ms/step - loss: 0.0029\n",
            "Epoch 38/100\n",
            "38/38 [==============================] - 2s 61ms/step - loss: 0.0029\n",
            "Epoch 39/100\n",
            "38/38 [==============================] - 2s 61ms/step - loss: 0.0028\n",
            "Epoch 40/100\n",
            "38/38 [==============================] - 2s 60ms/step - loss: 0.0027\n",
            "Epoch 41/100\n",
            "38/38 [==============================] - 2s 61ms/step - loss: 0.0026\n",
            "Epoch 42/100\n",
            "38/38 [==============================] - 2s 61ms/step - loss: 0.0024\n",
            "Epoch 43/100\n",
            "38/38 [==============================] - 2s 61ms/step - loss: 0.0024\n",
            "Epoch 44/100\n",
            "38/38 [==============================] - 2s 61ms/step - loss: 0.0025\n",
            "Epoch 45/100\n",
            "38/38 [==============================] - 2s 62ms/step - loss: 0.0025\n",
            "Epoch 46/100\n",
            "38/38 [==============================] - 2s 61ms/step - loss: 0.0023\n",
            "Epoch 47/100\n",
            "38/38 [==============================] - 2s 62ms/step - loss: 0.0024\n",
            "Epoch 48/100\n",
            "38/38 [==============================] - 2s 61ms/step - loss: 0.0022\n",
            "Epoch 49/100\n",
            "38/38 [==============================] - 2s 61ms/step - loss: 0.0026\n",
            "Epoch 50/100\n",
            "38/38 [==============================] - 2s 61ms/step - loss: 0.0024\n",
            "Epoch 51/100\n",
            "38/38 [==============================] - 2s 61ms/step - loss: 0.0025\n",
            "Epoch 52/100\n",
            "38/38 [==============================] - 2s 61ms/step - loss: 0.0024\n",
            "Epoch 53/100\n",
            "38/38 [==============================] - 2s 60ms/step - loss: 0.0021\n",
            "Epoch 54/100\n",
            "38/38 [==============================] - 2s 61ms/step - loss: 0.0024\n",
            "Epoch 55/100\n",
            "38/38 [==============================] - 2s 61ms/step - loss: 0.0022\n",
            "Epoch 56/100\n",
            "38/38 [==============================] - 2s 61ms/step - loss: 0.0024\n",
            "Epoch 57/100\n",
            "38/38 [==============================] - 2s 61ms/step - loss: 0.0024\n",
            "Epoch 58/100\n",
            "38/38 [==============================] - 2s 61ms/step - loss: 0.0022\n",
            "Epoch 59/100\n",
            "38/38 [==============================] - 2s 60ms/step - loss: 0.0022\n",
            "Epoch 60/100\n",
            "38/38 [==============================] - 2s 62ms/step - loss: 0.0020\n",
            "Epoch 61/100\n",
            "38/38 [==============================] - 2s 60ms/step - loss: 0.0022\n",
            "Epoch 62/100\n",
            "38/38 [==============================] - 2s 61ms/step - loss: 0.0020\n",
            "Epoch 63/100\n",
            "38/38 [==============================] - 2s 62ms/step - loss: 0.0019\n",
            "Epoch 64/100\n",
            "38/38 [==============================] - 2s 61ms/step - loss: 0.0022\n",
            "Epoch 65/100\n",
            "38/38 [==============================] - 2s 61ms/step - loss: 0.0020\n",
            "Epoch 66/100\n",
            "38/38 [==============================] - 2s 60ms/step - loss: 0.0018\n",
            "Epoch 67/100\n",
            "38/38 [==============================] - 2s 60ms/step - loss: 0.0020\n",
            "Epoch 68/100\n",
            "38/38 [==============================] - 2s 62ms/step - loss: 0.0018\n",
            "Epoch 69/100\n",
            "38/38 [==============================] - 2s 61ms/step - loss: 0.0020\n",
            "Epoch 70/100\n",
            "38/38 [==============================] - 2s 61ms/step - loss: 0.0018\n",
            "Epoch 71/100\n",
            "38/38 [==============================] - 2s 61ms/step - loss: 0.0019\n",
            "Epoch 72/100\n",
            "38/38 [==============================] - 2s 61ms/step - loss: 0.0017\n",
            "Epoch 73/100\n",
            "38/38 [==============================] - 2s 62ms/step - loss: 0.0019\n",
            "Epoch 74/100\n",
            "38/38 [==============================] - 2s 61ms/step - loss: 0.0018\n",
            "Epoch 75/100\n",
            "38/38 [==============================] - 2s 60ms/step - loss: 0.0018\n",
            "Epoch 76/100\n",
            "38/38 [==============================] - 2s 61ms/step - loss: 0.0018\n",
            "Epoch 77/100\n",
            "38/38 [==============================] - 2s 61ms/step - loss: 0.0020\n",
            "Epoch 78/100\n",
            "38/38 [==============================] - 2s 61ms/step - loss: 0.0016\n",
            "Epoch 79/100\n",
            "38/38 [==============================] - 2s 62ms/step - loss: 0.0017\n",
            "Epoch 80/100\n",
            "38/38 [==============================] - 2s 62ms/step - loss: 0.0017\n",
            "Epoch 81/100\n",
            "38/38 [==============================] - 2s 60ms/step - loss: 0.0016\n",
            "Epoch 82/100\n",
            "38/38 [==============================] - 2s 61ms/step - loss: 0.0016\n",
            "Epoch 83/100\n",
            "38/38 [==============================] - 2s 61ms/step - loss: 0.0015\n",
            "Epoch 84/100\n",
            "38/38 [==============================] - 2s 61ms/step - loss: 0.0016\n",
            "Epoch 85/100\n",
            "38/38 [==============================] - 2s 61ms/step - loss: 0.0017\n",
            "Epoch 86/100\n",
            "38/38 [==============================] - 2s 62ms/step - loss: 0.0015\n",
            "Epoch 87/100\n",
            "38/38 [==============================] - 2s 61ms/step - loss: 0.0017\n",
            "Epoch 88/100\n",
            "38/38 [==============================] - 2s 61ms/step - loss: 0.0016\n",
            "Epoch 89/100\n",
            "38/38 [==============================] - 2s 60ms/step - loss: 0.0016\n",
            "Epoch 90/100\n",
            "38/38 [==============================] - 2s 61ms/step - loss: 0.0016\n",
            "Epoch 91/100\n",
            "38/38 [==============================] - 2s 61ms/step - loss: 0.0016\n",
            "Epoch 92/100\n",
            "38/38 [==============================] - 2s 61ms/step - loss: 0.0016\n",
            "Epoch 93/100\n",
            "38/38 [==============================] - 2s 62ms/step - loss: 0.0016\n",
            "Epoch 94/100\n",
            "38/38 [==============================] - 2s 61ms/step - loss: 0.0015\n",
            "Epoch 95/100\n",
            "38/38 [==============================] - 2s 60ms/step - loss: 0.0016\n",
            "Epoch 96/100\n",
            "38/38 [==============================] - 2s 61ms/step - loss: 0.0016\n",
            "Epoch 97/100\n",
            "38/38 [==============================] - 2s 61ms/step - loss: 0.0016\n",
            "Epoch 98/100\n",
            "38/38 [==============================] - 2s 62ms/step - loss: 0.0014\n",
            "Epoch 99/100\n",
            "38/38 [==============================] - 2s 61ms/step - loss: 0.0017\n",
            "Epoch 100/100\n",
            "38/38 [==============================] - 2s 62ms/step - loss: 0.0015\n"
          ]
        },
        {
          "output_type": "execute_result",
          "data": {
            "text/plain": [
              "<keras.callbacks.History at 0x7f10997ca890>"
            ]
          },
          "metadata": {},
          "execution_count": 33
        }
      ]
    },
    {
      "cell_type": "markdown",
      "metadata": {
        "id": "VpIWIa1asY80"
      },
      "source": [
        "**Part 3 - Making the predictions and visualising the results**"
      ]
    },
    {
      "cell_type": "markdown",
      "metadata": {
        "id": "nBcwjI7asgKo"
      },
      "source": [
        "### Getting the real stock price of 2017"
      ]
    },
    {
      "cell_type": "code",
      "metadata": {
        "colab": {
          "base_uri": "https://localhost:8080/"
        },
        "id": "XpaP-7EBrHt2",
        "outputId": "ecc2bf5b-4ed1-4613-bbec-48773e9c4075"
      },
      "source": [
        "import pandas as pd\n",
        "from pandas import read_excel\n",
        "df_test = '/content/gdrive/MyDrive/LSTM/Google_Stock_Price_Train.csv' \n",
        "dataset_test = pd.read_csv(df_test)\n",
        "real_stock_price = dataset_test.iloc[:, 1:2].values\n",
        "print(real_stock_price)"
      ],
      "execution_count": 34,
      "outputs": [
        {
          "output_type": "stream",
          "name": "stdout",
          "text": [
            "[[325.25]\n",
            " [331.27]\n",
            " [329.83]\n",
            " ...\n",
            " [793.7 ]\n",
            " [783.33]\n",
            " [782.75]]\n"
          ]
        }
      ]
    },
    {
      "cell_type": "markdown",
      "metadata": {
        "id": "6UppPui1ttDZ"
      },
      "source": [
        "### Getting the predicted stock price of 2017"
      ]
    },
    {
      "cell_type": "code",
      "metadata": {
        "id": "Hv8hKhuDs7eK"
      },
      "source": [
        "dataset_total = pd.concat((dataset_train['Open'], dataset_test['Open']), axis = 0)\n",
        "inputs = dataset_total[len(dataset_total) - len(dataset_test) - 60:].values\n",
        "inputs = inputs.reshape(-1,1)\n",
        "inputs = sc.transform(inputs)\n",
        "X_test = []\n",
        "for i in range(60, 80):\n",
        "    X_test.append(inputs[i-60:i, 0])\n",
        "X_test = np.array(X_test)\n",
        "X_test = np.reshape(X_test, (X_test.shape[0], X_test.shape[1], 1))\n",
        "predicted_stock_price = regressor.predict(X_test)\n",
        "predicted_stock_price = sc.inverse_transform(predicted_stock_price)"
      ],
      "execution_count": 35,
      "outputs": []
    },
    {
      "cell_type": "markdown",
      "metadata": {
        "id": "Tb_SD4PYt3H5"
      },
      "source": [
        "### Visualising the results"
      ]
    },
    {
      "cell_type": "code",
      "metadata": {
        "colab": {
          "base_uri": "https://localhost:8080/",
          "height": 295
        },
        "id": "BYbunr8mtyhk",
        "outputId": "6dd1ed8d-a0df-4103-b93d-64fc5da6dc3f"
      },
      "source": [
        "plt.plot(real_stock_price, color = 'red', label = 'Real Google Stock Price')\n",
        "plt.plot(predicted_stock_price, color = 'blue', label = 'Predicted Google Stock Price')\n",
        "plt.title('Google Stock Price Prediction')\n",
        "plt.xlabel('Time')\n",
        "plt.ylabel('Google Stock Price')\n",
        "plt.legend()\n",
        "plt.show()"
      ],
      "execution_count": 36,
      "outputs": [
        {
          "output_type": "display_data",
          "data": {
            "image/png": "[encoded data removed]",
            "text/plain": [
              "<Figure size 432x288 with 1 Axes>"
            ]
          },
          "metadata": {
            "needs_background": "light"
          }
        }
      ]
    },
    {
      "cell_type": "code",
      "metadata": {
        "id": "D2WdjOV4vAxt"
      },
      "source": [
        ""
      ],
      "execution_count": null,
      "outputs": []
    }
  ]
}
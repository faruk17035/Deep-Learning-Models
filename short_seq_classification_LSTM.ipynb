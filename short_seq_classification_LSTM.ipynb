{
  "nbformat": 4,
  "nbformat_minor": 0,
  "metadata": {
    "colab": {
      "name": "short seq classification LSTM.ipynb",
      "provenance": [],
      "collapsed_sections": [],
      "authorship_tag": "ABX9TyP+P7iWOpmN6pq42h8CHYau",
      "include_colab_link": true
    },
    "kernelspec": {
      "name": "python3",
      "display_name": "Python 3"
    },
    "language_info": {
      "name": "python"
    },
    "accelerator": "GPU"
  },
  "cells": [
    {
      "cell_type": "markdown",
      "metadata": {
        "id": "view-in-github",
        "colab_type": "text"
      },
      "source": [
        "<a href=\"https://colab.research.google.com/github/faruk17035/Deep-Learning-Models/blob/main/short_seq_classification_LSTM.ipynb\" target=\"_parent\"><img src=\"https://colab.research.google.com/assets/colab-badge.svg\" alt=\"Open In Colab\"/></a>"
      ]
    },
    {
      "cell_type": "code",
      "metadata": {
        "colab": {
          "base_uri": "https://localhost:8080/"
        },
        "id": "Q7-qcvJqOVAz",
        "outputId": "90c38ac1-db92-4091-96f0-a54319e72ad1"
      },
      "source": [
        "from google.colab import drive \n",
        "drive.mount('/content/gdrive')"
      ],
      "execution_count": 1,
      "outputs": [
        {
          "output_type": "stream",
          "name": "stdout",
          "text": [
            "Mounted at /content/gdrive\n"
          ]
        }
      ]
    },
    {
      "cell_type": "code",
      "metadata": {
        "id": "uTMpoW8yOU2y"
      },
      "source": [
        "from keras.layers import Dense, Dropout, LSTM, Embedding\n",
        "from keras.preprocessing.sequence import pad_sequences\n",
        "from keras.models import Sequential\n",
        "import pandas as pd\n",
        "import numpy as np\n",
        "\n",
        "input_file = '/content/gdrive/MyDrive/input.csv'"
      ],
      "execution_count": 2,
      "outputs": []
    },
    {
      "cell_type": "code",
      "metadata": {
        "id": "NT1PI-8RO6hq"
      },
      "source": [
        "def load_data(test_split = 0.2):\n",
        "    print ('Loading data...')\n",
        "    df = pd.read_csv(input_file)\n",
        "    df['sequence'] = df['sequence'].apply(lambda x: [int(e) for e in x.split()])\n",
        "    df = df.reindex(np.random.permutation(df.index))\n",
        "\n",
        "    train_size = int(len(df) * (1 - test_split))\n",
        "\n",
        "    X_train = df['sequence'].values[:train_size]\n",
        "    y_train = np.array(df['target'].values[:train_size])\n",
        "    X_test = np.array(df['sequence'].values[train_size:])\n",
        "    y_test = np.array(df['target'].values[train_size:])\n",
        "\n",
        "    return pad_sequences(X_train), y_train, pad_sequences(X_test), y_test"
      ],
      "execution_count": 3,
      "outputs": []
    },
    {
      "cell_type": "code",
      "metadata": {
        "colab": {
          "base_uri": "https://localhost:8080/"
        },
        "id": "SjSmsiDBT8Ho",
        "outputId": "7821f204-a36d-46b3-b9f1-872a1d5ae236"
      },
      "source": [
        "X_train"
      ],
      "execution_count": 17,
      "outputs": [
        {
          "output_type": "execute_result",
          "data": {
            "text/plain": [
              "array([[2, 2, 3],\n",
              "       [1, 2, 3],\n",
              "       [2, 3, 4],\n",
              "       [4, 2, 1],\n",
              "       [2, 3, 1],\n",
              "       [1, 2, 4],\n",
              "       [2, 1, 3]], dtype=int32)"
            ]
          },
          "metadata": {},
          "execution_count": 17
        }
      ]
    },
    {
      "cell_type": "code",
      "metadata": {
        "colab": {
          "base_uri": "https://localhost:8080/"
        },
        "id": "05BugkTuT-q6",
        "outputId": "0ad7144e-d5c6-45be-edee-910c7f51a270"
      },
      "source": [
        "pad_sequences(X_train), y_train, pad_sequences(X_test), y_test"
      ],
      "execution_count": 19,
      "outputs": [
        {
          "output_type": "execute_result",
          "data": {
            "text/plain": [
              "(array([[2, 2, 3],\n",
              "        [1, 2, 3],\n",
              "        [2, 3, 4],\n",
              "        [4, 2, 1],\n",
              "        [2, 3, 1],\n",
              "        [1, 2, 4],\n",
              "        [2, 1, 3]], dtype=int32),\n",
              " array([1, 1, 1, 0, 0, 1, 0]),\n",
              " array([[4, 3, 1],\n",
              "        [3, 2, 1]], dtype=int32),\n",
              " array([0, 0]))"
            ]
          },
          "metadata": {},
          "execution_count": 19
        }
      ]
    },
    {
      "cell_type": "code",
      "metadata": {
        "id": "EDZJmiTeOQdX"
      },
      "source": [
        "def create_model(input_length):\n",
        "    print ('Creating model...')\n",
        "    model = Sequential()\n",
        "    model.add(Embedding(input_dim = 188, output_dim = 50, input_length = input_length))\n",
        "    #model.add(LSTM(output_dim=256, activation='sigmoid', inner_activation='hard_sigmoid', return_sequences=True))\n",
        "    model.add(LSTM(units=256, activation='sigmoid', return_sequences=True))\n",
        "    model.add(Dropout(0.5))\n",
        "    model.add(LSTM(units=256, activation='sigmoid'))\n",
        "    model.add(Dropout(0.5))\n",
        "    model.add(Dense(1, activation='sigmoid'))\n",
        "\n",
        "    print ('Compiling...')\n",
        "    model.compile(loss='binary_crossentropy',\n",
        "                  optimizer='rmsprop',\n",
        "                  metrics=['accuracy'])\n",
        "    return model\n"
      ],
      "execution_count": 13,
      "outputs": []
    },
    {
      "cell_type": "code",
      "metadata": {
        "colab": {
          "base_uri": "https://localhost:8080/"
        },
        "id": "Rtvb3o8_PRUY",
        "outputId": "08cfb277-eb51-481c-c092-df5375c206be"
      },
      "source": [
        "len(X_train[0])"
      ],
      "execution_count": 14,
      "outputs": [
        {
          "output_type": "execute_result",
          "data": {
            "text/plain": [
              "3"
            ]
          },
          "metadata": {},
          "execution_count": 14
        }
      ]
    },
    {
      "cell_type": "code",
      "metadata": {
        "colab": {
          "base_uri": "https://localhost:8080/"
        },
        "id": "0Ufj2lvdO-7O",
        "outputId": "d4bf5620-4018-4aab-e2a5-d05f23f890cb"
      },
      "source": [
        "X_train, y_train, X_test, y_test = load_data()\n",
        "\n",
        "model = create_model(len(X_train[0]))\n",
        "\n",
        "print ('Fitting model...')\n",
        "hist = model.fit(X_train, y_train, batch_size=64, epochs=10, validation_split = 0.1, verbose = 1)\n",
        "\n",
        "score, acc = model.evaluate(X_test, y_test, batch_size=1)\n",
        "print('Test score:', score)\n",
        "print('Test accuracy:', acc)"
      ],
      "execution_count": 16,
      "outputs": [
        {
          "output_type": "stream",
          "name": "stdout",
          "text": [
            "Loading data...\n",
            "Creating model...\n",
            "WARNING:tensorflow:Layer lstm_2 will not use cuDNN kernels since it doesn't meet the criteria. It will use a generic GPU kernel as fallback when running on GPU.\n",
            "WARNING:tensorflow:Layer lstm_3 will not use cuDNN kernels since it doesn't meet the criteria. It will use a generic GPU kernel as fallback when running on GPU.\n",
            "Compiling...\n",
            "Fitting model...\n",
            "Epoch 1/10\n",
            "1/1 [==============================] - 6s 6s/step - loss: 0.5608 - accuracy: 0.6667 - val_loss: 1.7937 - val_accuracy: 0.0000e+00\n",
            "Epoch 2/10\n",
            "1/1 [==============================] - 0s 53ms/step - loss: 0.7441 - accuracy: 0.6667 - val_loss: 1.0403 - val_accuracy: 0.0000e+00\n",
            "Epoch 3/10\n",
            "1/1 [==============================] - 0s 58ms/step - loss: 0.7091 - accuracy: 0.6667 - val_loss: 1.1118 - val_accuracy: 0.0000e+00\n",
            "Epoch 4/10\n",
            "1/1 [==============================] - 0s 47ms/step - loss: 0.5135 - accuracy: 0.6667 - val_loss: 0.9277 - val_accuracy: 0.0000e+00\n",
            "Epoch 5/10\n",
            "1/1 [==============================] - 0s 54ms/step - loss: 0.7885 - accuracy: 0.5000 - val_loss: 1.2555 - val_accuracy: 0.0000e+00\n",
            "Epoch 6/10\n",
            "1/1 [==============================] - 0s 50ms/step - loss: 0.7070 - accuracy: 0.6667 - val_loss: 1.1080 - val_accuracy: 0.0000e+00\n",
            "Epoch 7/10\n",
            "1/1 [==============================] - 0s 48ms/step - loss: 0.7966 - accuracy: 0.6667 - val_loss: 0.9746 - val_accuracy: 0.0000e+00\n",
            "Epoch 8/10\n",
            "1/1 [==============================] - 0s 46ms/step - loss: 0.7805 - accuracy: 0.3333 - val_loss: 1.1662 - val_accuracy: 0.0000e+00\n",
            "Epoch 9/10\n",
            "1/1 [==============================] - 0s 52ms/step - loss: 0.5232 - accuracy: 0.6667 - val_loss: 1.0453 - val_accuracy: 0.0000e+00\n",
            "Epoch 10/10\n",
            "1/1 [==============================] - 0s 54ms/step - loss: 0.7764 - accuracy: 0.6667 - val_loss: 1.0435 - val_accuracy: 0.0000e+00\n",
            "2/2 [==============================] - 0s 12ms/step - loss: 1.0365 - accuracy: 0.0000e+00\n",
            "Test score: 1.0365426540374756\n",
            "Test accuracy: 0.0\n"
          ]
        }
      ]
    },
    {
      "cell_type": "code",
      "metadata": {
        "id": "j9UY8qoEPBYk"
      },
      "source": [
        ""
      ],
      "execution_count": null,
      "outputs": []
    }
  ]
}
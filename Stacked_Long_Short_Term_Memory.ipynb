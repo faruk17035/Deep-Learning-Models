{
  "nbformat": 4,
  "nbformat_minor": 0,
  "metadata": {
    "colab": {
      "name": "Stacked Long Short Term Memory.ipynb",
      "provenance": [],
      "collapsed_sections": [],
      "authorship_tag": "ABX9TyPOxyLFNVkAUkFfEDL1C0MC",
      "include_colab_link": true
    },
    "kernelspec": {
      "name": "python3",
      "display_name": "Python 3"
    },
    "language_info": {
      "name": "python"
    },
    "accelerator": "GPU"
  },
  "cells": [
    {
      "cell_type": "markdown",
      "metadata": {
        "id": "view-in-github",
        "colab_type": "text"
      },
      "source": [
        "<a href=\"https://colab.research.google.com/github/faruk17035/Deep-Learning-Models/blob/main/Stacked_Long_Short_Term_Memory.ipynb\" target=\"_parent\"><img src=\"https://colab.research.google.com/assets/colab-badge.svg\" alt=\"Open In Colab\"/></a>"
      ]
    },
    {
      "cell_type": "code",
      "metadata": {
        "id": "R08X8eaGcrF_"
      },
      "source": [
        "import numpy as np\n",
        "import matplotlib.pyplot as plt\n",
        "import pandas as pd"
      ],
      "execution_count": 1,
      "outputs": []
    },
    {
      "cell_type": "code",
      "metadata": {
        "colab": {
          "base_uri": "https://localhost:8080/"
        },
        "id": "bw9m_BUic5Vi",
        "outputId": "ae03812d-b055-49e7-802a-6633506cf287"
      },
      "source": [
        "from google.colab import drive \n",
        "drive.mount('/content/gdrive')"
      ],
      "execution_count": 2,
      "outputs": [
        {
          "output_type": "stream",
          "name": "stdout",
          "text": [
            "Mounted at /content/gdrive\n"
          ]
        }
      ]
    },
    {
      "cell_type": "code",
      "metadata": {
        "colab": {
          "base_uri": "https://localhost:8080/"
        },
        "id": "PIV4SR1Zc8Ba",
        "outputId": "6631c687-558a-4573-cb83-eb1c295ff026"
      },
      "source": [
        "import pandas as pd\n",
        "from pandas import read_excel\n",
        "file = '/content/gdrive/MyDrive/stock.csv' \n",
        "#df = pd.read_csv(file)\n",
        "stock_data = pd.read_csv(file)\n",
        "print(stock_data)"
      ],
      "execution_count": 3,
      "outputs": [
        {
          "output_type": "stream",
          "name": "stdout",
          "text": [
            "            Date    Open    High  ...   Close  Total Trade Quantity  Turnover (Lacs)\n",
            "0     2018-09-28  234.05  235.95  ...  233.75               3069914          7162.35\n",
            "1     2018-09-27  234.55  236.80  ...  233.25               5082859         11859.95\n",
            "2     2018-09-26  240.00  240.00  ...  234.25               2240909          5248.60\n",
            "3     2018-09-25  233.30  236.75  ...  236.10               2349368          5503.90\n",
            "4     2018-09-24  233.55  239.20  ...  233.30               3423509          7999.55\n",
            "...          ...     ...     ...  ...     ...                   ...              ...\n",
            "2030  2010-07-27  117.60  119.50  ...  118.65                586100           694.98\n",
            "2031  2010-07-26  120.10  121.00  ...  117.60                658440           780.01\n",
            "2032  2010-07-23  121.80  121.95  ...  120.65                281312           340.31\n",
            "2033  2010-07-22  120.30  122.00  ...  120.90                293312           355.17\n",
            "2034  2010-07-21  122.10  123.00  ...  121.55                658666           803.56\n",
            "\n",
            "[2035 rows x 8 columns]\n"
          ]
        }
      ]
    },
    {
      "cell_type": "code",
      "metadata": {
        "colab": {
          "base_uri": "https://localhost:8080/"
        },
        "id": "XQD3-iEOel08",
        "outputId": "b45ad814-41fb-416d-814e-485be12d3cf4"
      },
      "source": [
        "print(stock_data.isnull().sum())"
      ],
      "execution_count": 4,
      "outputs": [
        {
          "output_type": "stream",
          "name": "stdout",
          "text": [
            "Date                    0\n",
            "Open                    0\n",
            "High                    0\n",
            "Low                     0\n",
            "Last                    0\n",
            "Close                   0\n",
            "Total Trade Quantity    0\n",
            "Turnover (Lacs)         0\n",
            "dtype: int64\n"
          ]
        }
      ]
    },
    {
      "cell_type": "code",
      "metadata": {
        "colab": {
          "base_uri": "https://localhost:8080/",
          "height": 300
        },
        "id": "d4fKRgCSep2w",
        "outputId": "c345586c-792d-4f4e-ae1c-9f427c7e7082"
      },
      "source": [
        "stock_data.describe()"
      ],
      "execution_count": 5,
      "outputs": [
        {
          "output_type": "execute_result",
          "data": {
            "text/html": [
              "<div>\n",
              "<style scoped>\n",
              "    .dataframe tbody tr th:only-of-type {\n",
              "        vertical-align: middle;\n",
              "    }\n",
              "\n",
              "    .dataframe tbody tr th {\n",
              "        vertical-align: top;\n",
              "    }\n",
              "\n",
              "    .dataframe thead th {\n",
              "        text-align: right;\n",
              "    }\n",
              "</style>\n",
              "<table border=\"1\" class=\"dataframe\">\n",
              "  <thead>\n",
              "    <tr style=\"text-align: right;\">\n",
              "      <th></th>\n",
              "      <th>Open</th>\n",
              "      <th>High</th>\n",
              "      <th>Low</th>\n",
              "      <th>Last</th>\n",
              "      <th>Close</th>\n",
              "      <th>Total Trade Quantity</th>\n",
              "      <th>Turnover (Lacs)</th>\n",
              "    </tr>\n",
              "  </thead>\n",
              "  <tbody>\n",
              "    <tr>\n",
              "      <th>count</th>\n",
              "      <td>2035.000000</td>\n",
              "      <td>2035.000000</td>\n",
              "      <td>2035.000000</td>\n",
              "      <td>2035.000000</td>\n",
              "      <td>2035.00000</td>\n",
              "      <td>2.035000e+03</td>\n",
              "      <td>2035.000000</td>\n",
              "    </tr>\n",
              "    <tr>\n",
              "      <th>mean</th>\n",
              "      <td>149.713735</td>\n",
              "      <td>151.992826</td>\n",
              "      <td>147.293931</td>\n",
              "      <td>149.474251</td>\n",
              "      <td>149.45027</td>\n",
              "      <td>2.335681e+06</td>\n",
              "      <td>3899.980565</td>\n",
              "    </tr>\n",
              "    <tr>\n",
              "      <th>std</th>\n",
              "      <td>48.664509</td>\n",
              "      <td>49.413109</td>\n",
              "      <td>47.931958</td>\n",
              "      <td>48.732570</td>\n",
              "      <td>48.71204</td>\n",
              "      <td>2.091778e+06</td>\n",
              "      <td>4570.767877</td>\n",
              "    </tr>\n",
              "    <tr>\n",
              "      <th>min</th>\n",
              "      <td>81.100000</td>\n",
              "      <td>82.800000</td>\n",
              "      <td>80.000000</td>\n",
              "      <td>81.000000</td>\n",
              "      <td>80.95000</td>\n",
              "      <td>3.961000e+04</td>\n",
              "      <td>37.040000</td>\n",
              "    </tr>\n",
              "    <tr>\n",
              "      <th>25%</th>\n",
              "      <td>120.025000</td>\n",
              "      <td>122.100000</td>\n",
              "      <td>118.300000</td>\n",
              "      <td>120.075000</td>\n",
              "      <td>120.05000</td>\n",
              "      <td>1.146444e+06</td>\n",
              "      <td>1427.460000</td>\n",
              "    </tr>\n",
              "    <tr>\n",
              "      <th>50%</th>\n",
              "      <td>141.500000</td>\n",
              "      <td>143.400000</td>\n",
              "      <td>139.600000</td>\n",
              "      <td>141.100000</td>\n",
              "      <td>141.25000</td>\n",
              "      <td>1.783456e+06</td>\n",
              "      <td>2512.030000</td>\n",
              "    </tr>\n",
              "    <tr>\n",
              "      <th>75%</th>\n",
              "      <td>157.175000</td>\n",
              "      <td>159.400000</td>\n",
              "      <td>155.150000</td>\n",
              "      <td>156.925000</td>\n",
              "      <td>156.90000</td>\n",
              "      <td>2.813594e+06</td>\n",
              "      <td>4539.015000</td>\n",
              "    </tr>\n",
              "    <tr>\n",
              "      <th>max</th>\n",
              "      <td>327.700000</td>\n",
              "      <td>328.750000</td>\n",
              "      <td>321.650000</td>\n",
              "      <td>325.950000</td>\n",
              "      <td>325.75000</td>\n",
              "      <td>2.919102e+07</td>\n",
              "      <td>55755.080000</td>\n",
              "    </tr>\n",
              "  </tbody>\n",
              "</table>\n",
              "</div>"
            ],
            "text/plain": [
              "              Open         High  ...  Total Trade Quantity  Turnover (Lacs)\n",
              "count  2035.000000  2035.000000  ...          2.035000e+03      2035.000000\n",
              "mean    149.713735   151.992826  ...          2.335681e+06      3899.980565\n",
              "std      48.664509    49.413109  ...          2.091778e+06      4570.767877\n",
              "min      81.100000    82.800000  ...          3.961000e+04        37.040000\n",
              "25%     120.025000   122.100000  ...          1.146444e+06      1427.460000\n",
              "50%     141.500000   143.400000  ...          1.783456e+06      2512.030000\n",
              "75%     157.175000   159.400000  ...          2.813594e+06      4539.015000\n",
              "max     327.700000   328.750000  ...          2.919102e+07     55755.080000\n",
              "\n",
              "[8 rows x 7 columns]"
            ]
          },
          "metadata": {},
          "execution_count": 5
        }
      ]
    },
    {
      "cell_type": "code",
      "metadata": {
        "id": "FIc3GE9wetL6"
      },
      "source": [
        "stock_data1 = stock_data.reset_index()['Close']"
      ],
      "execution_count": 6,
      "outputs": []
    },
    {
      "cell_type": "code",
      "metadata": {
        "colab": {
          "base_uri": "https://localhost:8080/"
        },
        "id": "VdTbdsqHewqO",
        "outputId": "e29c379b-b444-4eec-a982-6aaf0ba5d235"
      },
      "source": [
        "stock_data1.shape"
      ],
      "execution_count": 7,
      "outputs": [
        {
          "output_type": "execute_result",
          "data": {
            "text/plain": [
              "(2035,)"
            ]
          },
          "metadata": {},
          "execution_count": 7
        }
      ]
    },
    {
      "cell_type": "code",
      "metadata": {
        "colab": {
          "base_uri": "https://localhost:8080/"
        },
        "id": "cLTqKnOQezC-",
        "outputId": "d0813e53-c960-4829-9d70-de9d45ee6a94"
      },
      "source": [
        "stock_data1"
      ],
      "execution_count": 8,
      "outputs": [
        {
          "output_type": "execute_result",
          "data": {
            "text/plain": [
              "0       233.75\n",
              "1       233.25\n",
              "2       234.25\n",
              "3       236.10\n",
              "4       233.30\n",
              "         ...  \n",
              "2030    118.65\n",
              "2031    117.60\n",
              "2032    120.65\n",
              "2033    120.90\n",
              "2034    121.55\n",
              "Name: Close, Length: 2035, dtype: float64"
            ]
          },
          "metadata": {},
          "execution_count": 8
        }
      ]
    },
    {
      "cell_type": "markdown",
      "metadata": {
        "id": "YnuxCJL9e40L"
      },
      "source": [
        "## Plot the dataframe"
      ]
    },
    {
      "cell_type": "code",
      "metadata": {
        "colab": {
          "base_uri": "https://localhost:8080/",
          "height": 282
        },
        "id": "CGrSJjoCe1D0",
        "outputId": "29a6be59-dc79-4854-bfe5-d46d17c593b1"
      },
      "source": [
        "import matplotlib.pyplot as plt\n",
        "plt.plot(stock_data1)"
      ],
      "execution_count": 9,
      "outputs": [
        {
          "output_type": "execute_result",
          "data": {
            "text/plain": [
              "[<matplotlib.lines.Line2D at 0x7f4f29447350>]"
            ]
          },
          "metadata": {},
          "execution_count": 9
        },
        {
          "output_type": "display_data",
          "data": {
            "image/png": "[encoded data removed]",
            "text/plain": [
              "<Figure size 432x288 with 1 Axes>"
            ]
          },
          "metadata": {
            "needs_background": "light"
          }
        }
      ]
    },
    {
      "cell_type": "markdown",
      "metadata": {
        "id": "ekDaoaNye_9W"
      },
      "source": [
        "### Transform the data using MinMax Scaler"
      ]
    },
    {
      "cell_type": "code",
      "metadata": {
        "id": "EVzwRMeIe9D7"
      },
      "source": [
        "#We have to do this as LSTM is sensitive to the scale of the data\n",
        "import numpy as np\n",
        "from sklearn.preprocessing import MinMaxScaler\n",
        "scaler = MinMaxScaler(feature_range=(0,1))\n",
        "stock_data1 = scaler.fit_transform(np.array(stock_data1).reshape(-1,1))"
      ],
      "execution_count": 10,
      "outputs": []
    },
    {
      "cell_type": "code",
      "metadata": {
        "colab": {
          "base_uri": "https://localhost:8080/"
        },
        "id": "PnyrOh80fDdn",
        "outputId": "a8a84eb4-32ed-430d-c4a7-b189c8abd6cd"
      },
      "source": [
        "stock_data1 #array has been transformed into values ranging from 0 to 1"
      ],
      "execution_count": 11,
      "outputs": [
        {
          "output_type": "execute_result",
          "data": {
            "text/plain": [
              "array([[0.62418301],\n",
              "       [0.62214052],\n",
              "       [0.62622549],\n",
              "       ...,\n",
              "       [0.1621732 ],\n",
              "       [0.16319444],\n",
              "       [0.16584967]])"
            ]
          },
          "metadata": {},
          "execution_count": 11
        }
      ]
    },
    {
      "cell_type": "markdown",
      "metadata": {
        "id": "aIZf9NEKfJHl"
      },
      "source": [
        "## Split dataset into training and testing datasets"
      ]
    },
    {
      "cell_type": "code",
      "metadata": {
        "id": "k98y7o89fFsU"
      },
      "source": [
        "train_size = int(len(stock_data1)*0.65)\n",
        "test_size = len(stock_data1) - train_size\n",
        "train_data, test_data = stock_data1[0:train_size,:],stock_data1[train_size:len(stock_data1),:1]"
      ],
      "execution_count": 12,
      "outputs": []
    },
    {
      "cell_type": "markdown",
      "metadata": {
        "id": "_ibOqX9EfPTs"
      },
      "source": [
        "## Preprocess the data"
      ]
    },
    {
      "cell_type": "code",
      "metadata": {
        "id": "n4A7eQU-fMJt"
      },
      "source": [
        "import numpy as np\n",
        "def create_dataset(dataset, time_step=1):\n",
        "  x, y = [],[]\n",
        "  for i in range(len(dataset)-time_step-1):\n",
        "    a=dataset[i:(i+time_step),0]\n",
        "    x.append(a)\n",
        "    y.append(dataset[i+time_step,0])\n",
        "  return np.array(x),np.array(y)"
      ],
      "execution_count": 13,
      "outputs": []
    },
    {
      "cell_type": "code",
      "metadata": {
        "id": "tBUkSK5mfTC1"
      },
      "source": [
        "time_step = 100\n",
        "x_train, y_train = create_dataset(train_data, time_step)\n",
        "x_test, y_test = create_dataset(test_data, time_step)"
      ],
      "execution_count": 14,
      "outputs": []
    },
    {
      "cell_type": "code",
      "metadata": {
        "id": "MJhd6esLfVVp"
      },
      "source": [
        "#reshaping input for LSTM\n",
        "x_train = x_train.reshape(x_train.shape[0], x_train.shape[1], 1)\n",
        "x_test = x_test.reshape(x_test.shape[0], x_test.shape[1], 1)"
      ],
      "execution_count": 15,
      "outputs": []
    },
    {
      "cell_type": "markdown",
      "metadata": {
        "id": "AOxudPGkfbQW"
      },
      "source": [
        "## Create the stacked LSTM Model"
      ]
    },
    {
      "cell_type": "code",
      "metadata": {
        "id": "UMsca1NufXtu"
      },
      "source": [
        "from tensorflow.keras.models import Sequential\n",
        "from tensorflow.keras.layers import Dense\n",
        "from tensorflow.keras.layers import LSTM"
      ],
      "execution_count": 16,
      "outputs": []
    },
    {
      "cell_type": "code",
      "metadata": {
        "id": "CacfcIv0fePa"
      },
      "source": [
        "model = Sequential()\n",
        "#adding layers\n",
        "model.add(LSTM(50,return_sequences=True,input_shape=(100,1)))\n",
        "model.add(LSTM(50,return_sequences=True))\n",
        "model.add(LSTM(50))\n",
        "model.add(Dense(1))\n",
        "model.compile(loss='mean_squared_error',optimizer='adam')"
      ],
      "execution_count": 17,
      "outputs": []
    },
    {
      "cell_type": "code",
      "metadata": {
        "colab": {
          "base_uri": "https://localhost:8080/"
        },
        "id": "aFZ82-c_fgje",
        "outputId": "fddf466e-a367-4947-a885-fe6b03447d50"
      },
      "source": [
        "model.summary()"
      ],
      "execution_count": 18,
      "outputs": [
        {
          "output_type": "stream",
          "name": "stdout",
          "text": [
            "Model: \"sequential\"\n",
            "_________________________________________________________________\n",
            "Layer (type)                 Output Shape              Param #   \n",
            "=================================================================\n",
            "lstm (LSTM)                  (None, 100, 50)           10400     \n",
            "_________________________________________________________________\n",
            "lstm_1 (LSTM)                (None, 100, 50)           20200     \n",
            "_________________________________________________________________\n",
            "lstm_2 (LSTM)                (None, 50)                20200     \n",
            "_________________________________________________________________\n",
            "dense (Dense)                (None, 1)                 51        \n",
            "=================================================================\n",
            "Total params: 50,851\n",
            "Trainable params: 50,851\n",
            "Non-trainable params: 0\n",
            "_________________________________________________________________\n"
          ]
        }
      ]
    },
    {
      "cell_type": "markdown",
      "metadata": {
        "id": "7j0pu8O1fmip"
      },
      "source": [
        "## Fit the model"
      ]
    },
    {
      "cell_type": "code",
      "metadata": {
        "colab": {
          "base_uri": "https://localhost:8080/"
        },
        "id": "BYfrHBWpfpmG",
        "outputId": "003d8329-4154-4f00-bf72-e760d431da30"
      },
      "source": [
        "model.fit(x_train,y_train,validation_data=(x_test,y_test),epochs=50,batch_size=64,verbose=1)"
      ],
      "execution_count": 20,
      "outputs": [
        {
          "output_type": "stream",
          "name": "stdout",
          "text": [
            "Epoch 1/50\n",
            "20/20 [==============================] - 3s 154ms/step - loss: 0.0037 - val_loss: 0.0017\n",
            "Epoch 2/50\n",
            "20/20 [==============================] - 2s 81ms/step - loss: 0.0020 - val_loss: 7.5197e-04\n",
            "Epoch 3/50\n",
            "20/20 [==============================] - 2s 81ms/step - loss: 0.0016 - val_loss: 8.9558e-04\n",
            "Epoch 4/50\n",
            "20/20 [==============================] - 2s 81ms/step - loss: 0.0014 - val_loss: 0.0010\n",
            "Epoch 5/50\n",
            "20/20 [==============================] - 2s 81ms/step - loss: 0.0014 - val_loss: 7.4950e-04\n",
            "Epoch 6/50\n",
            "20/20 [==============================] - 2s 82ms/step - loss: 0.0014 - val_loss: 0.0011\n",
            "Epoch 7/50\n",
            "20/20 [==============================] - 2s 82ms/step - loss: 0.0014 - val_loss: 7.8351e-04\n",
            "Epoch 8/50\n",
            "20/20 [==============================] - 2s 82ms/step - loss: 0.0012 - val_loss: 7.7569e-04\n",
            "Epoch 9/50\n",
            "20/20 [==============================] - 2s 82ms/step - loss: 0.0016 - val_loss: 0.0012\n",
            "Epoch 10/50\n",
            "20/20 [==============================] - 2s 81ms/step - loss: 0.0013 - val_loss: 9.4635e-04\n",
            "Epoch 11/50\n",
            "20/20 [==============================] - 2s 83ms/step - loss: 0.0011 - val_loss: 7.4242e-04\n",
            "Epoch 12/50\n",
            "20/20 [==============================] - 2s 82ms/step - loss: 0.0011 - val_loss: 8.3833e-04\n",
            "Epoch 13/50\n",
            "20/20 [==============================] - 2s 81ms/step - loss: 0.0010 - val_loss: 7.1796e-04\n",
            "Epoch 14/50\n",
            "20/20 [==============================] - 2s 80ms/step - loss: 0.0010 - val_loss: 5.9996e-04\n",
            "Epoch 15/50\n",
            "20/20 [==============================] - 2s 82ms/step - loss: 0.0011 - val_loss: 9.1313e-04\n",
            "Epoch 16/50\n",
            "20/20 [==============================] - 2s 82ms/step - loss: 0.0012 - val_loss: 0.0011\n",
            "Epoch 17/50\n",
            "20/20 [==============================] - 2s 82ms/step - loss: 9.0444e-04 - val_loss: 5.9751e-04\n",
            "Epoch 18/50\n",
            "20/20 [==============================] - 2s 81ms/step - loss: 8.7152e-04 - val_loss: 7.6790e-04\n",
            "Epoch 19/50\n",
            "20/20 [==============================] - 2s 81ms/step - loss: 8.4271e-04 - val_loss: 6.7412e-04\n",
            "Epoch 20/50\n",
            "20/20 [==============================] - 2s 82ms/step - loss: 8.1219e-04 - val_loss: 6.6995e-04\n",
            "Epoch 21/50\n",
            "20/20 [==============================] - 2s 81ms/step - loss: 8.4385e-04 - val_loss: 6.2339e-04\n",
            "Epoch 22/50\n",
            "20/20 [==============================] - 2s 81ms/step - loss: 8.5433e-04 - val_loss: 8.6763e-04\n",
            "Epoch 23/50\n",
            "20/20 [==============================] - 2s 82ms/step - loss: 8.0196e-04 - val_loss: 7.8675e-04\n",
            "Epoch 24/50\n",
            "20/20 [==============================] - 2s 83ms/step - loss: 7.3012e-04 - val_loss: 7.6770e-04\n",
            "Epoch 25/50\n",
            "20/20 [==============================] - 2s 81ms/step - loss: 7.6286e-04 - val_loss: 6.6273e-04\n",
            "Epoch 26/50\n",
            "20/20 [==============================] - 2s 82ms/step - loss: 6.9988e-04 - val_loss: 5.6354e-04\n",
            "Epoch 27/50\n",
            "20/20 [==============================] - 2s 81ms/step - loss: 7.0741e-04 - val_loss: 7.6182e-04\n",
            "Epoch 28/50\n",
            "20/20 [==============================] - 2s 82ms/step - loss: 6.7952e-04 - val_loss: 7.9396e-04\n",
            "Epoch 29/50\n",
            "20/20 [==============================] - 2s 81ms/step - loss: 7.6526e-04 - val_loss: 6.6347e-04\n",
            "Epoch 30/50\n",
            "20/20 [==============================] - 2s 82ms/step - loss: 6.5545e-04 - val_loss: 6.8430e-04\n",
            "Epoch 31/50\n",
            "20/20 [==============================] - 2s 82ms/step - loss: 6.4363e-04 - val_loss: 5.7930e-04\n",
            "Epoch 32/50\n",
            "20/20 [==============================] - 2s 81ms/step - loss: 6.0953e-04 - val_loss: 6.8289e-04\n",
            "Epoch 33/50\n",
            "20/20 [==============================] - 2s 82ms/step - loss: 6.3148e-04 - val_loss: 7.3843e-04\n",
            "Epoch 34/50\n",
            "20/20 [==============================] - 2s 82ms/step - loss: 6.7413e-04 - val_loss: 5.3211e-04\n",
            "Epoch 35/50\n",
            "20/20 [==============================] - 2s 81ms/step - loss: 7.4170e-04 - val_loss: 6.5386e-04\n",
            "Epoch 36/50\n",
            "20/20 [==============================] - 2s 83ms/step - loss: 6.0144e-04 - val_loss: 8.5353e-04\n",
            "Epoch 37/50\n",
            "20/20 [==============================] - 2s 82ms/step - loss: 6.6867e-04 - val_loss: 5.2012e-04\n",
            "Epoch 38/50\n",
            "20/20 [==============================] - 2s 81ms/step - loss: 6.7092e-04 - val_loss: 7.5882e-04\n",
            "Epoch 39/50\n",
            "20/20 [==============================] - 2s 82ms/step - loss: 6.4326e-04 - val_loss: 5.1938e-04\n",
            "Epoch 40/50\n",
            "20/20 [==============================] - 2s 83ms/step - loss: 7.4076e-04 - val_loss: 7.5211e-04\n",
            "Epoch 41/50\n",
            "20/20 [==============================] - 2s 82ms/step - loss: 7.2773e-04 - val_loss: 5.6780e-04\n",
            "Epoch 42/50\n",
            "20/20 [==============================] - 2s 81ms/step - loss: 5.9079e-04 - val_loss: 4.6131e-04\n",
            "Epoch 43/50\n",
            "20/20 [==============================] - 2s 81ms/step - loss: 6.4470e-04 - val_loss: 5.7354e-04\n",
            "Epoch 44/50\n",
            "20/20 [==============================] - 2s 81ms/step - loss: 5.5646e-04 - val_loss: 6.6750e-04\n",
            "Epoch 45/50\n",
            "20/20 [==============================] - 2s 82ms/step - loss: 5.4440e-04 - val_loss: 5.7576e-04\n",
            "Epoch 46/50\n",
            "20/20 [==============================] - 2s 81ms/step - loss: 6.1883e-04 - val_loss: 6.4992e-04\n",
            "Epoch 47/50\n",
            "20/20 [==============================] - 2s 82ms/step - loss: 5.6690e-04 - val_loss: 5.2517e-04\n",
            "Epoch 48/50\n",
            "20/20 [==============================] - 2s 81ms/step - loss: 7.9712e-04 - val_loss: 6.7739e-04\n",
            "Epoch 49/50\n",
            "20/20 [==============================] - 2s 82ms/step - loss: 5.3217e-04 - val_loss: 4.7041e-04\n",
            "Epoch 50/50\n",
            "20/20 [==============================] - 2s 83ms/step - loss: 5.2407e-04 - val_loss: 5.1489e-04\n"
          ]
        },
        {
          "output_type": "execute_result",
          "data": {
            "text/plain": [
              "<keras.callbacks.History at 0x7f4e2fdb82d0>"
            ]
          },
          "metadata": {},
          "execution_count": 20
        }
      ]
    },
    {
      "cell_type": "markdown",
      "metadata": {
        "id": "IX97tg9ufzpj"
      },
      "source": [
        "## Generate Predictions"
      ]
    },
    {
      "cell_type": "code",
      "metadata": {
        "id": "ErZ2qE0Eft-H"
      },
      "source": [
        "import tensorflow as tf #importing the tensorflow library to predict\n",
        "train_prediction = model.predict(x_train)\n",
        "test_prediction = model.predict(x_test)"
      ],
      "execution_count": 21,
      "outputs": []
    },
    {
      "cell_type": "markdown",
      "metadata": {
        "id": "pRvbH1Q-f8HG"
      },
      "source": [
        "## Transform back to original form using reverse scaling"
      ]
    },
    {
      "cell_type": "code",
      "metadata": {
        "id": "M3qeS5D2f33z"
      },
      "source": [
        "train_prediction = scaler.inverse_transform(train_prediction)\n",
        "test_prediction = scaler.inverse_transform(test_prediction)"
      ],
      "execution_count": 22,
      "outputs": []
    },
    {
      "cell_type": "markdown",
      "metadata": {
        "id": "l74BXR_ugEJK"
      },
      "source": [
        "## Calculate RMSE (Root Mean Square Error)"
      ]
    },
    {
      "cell_type": "code",
      "metadata": {
        "colab": {
          "base_uri": "https://localhost:8080/"
        },
        "id": "2JJe1RrPf_o2",
        "outputId": "b901902e-2aaf-4827-8b8d-7447bc70fda2"
      },
      "source": [
        "import math\n",
        "from sklearn.metrics import mean_squared_error\n",
        "math.sqrt(mean_squared_error(y_train,train_prediction)) #for training data"
      ],
      "execution_count": 23,
      "outputs": [
        {
          "output_type": "execute_result",
          "data": {
            "text/plain": [
              "163.95761717384013"
            ]
          },
          "metadata": {},
          "execution_count": 23
        }
      ]
    },
    {
      "cell_type": "code",
      "metadata": {
        "colab": {
          "base_uri": "https://localhost:8080/"
        },
        "id": "YVh2NdNEgIjj",
        "outputId": "94229333-d4b2-4f53-edd4-195a1b647a5f"
      },
      "source": [
        "math.sqrt(mean_squared_error(y_test,test_prediction)) #for testing data"
      ],
      "execution_count": 24,
      "outputs": [
        {
          "output_type": "execute_result",
          "data": {
            "text/plain": [
              "116.87266346644554"
            ]
          },
          "metadata": {},
          "execution_count": 24
        }
      ]
    },
    {
      "cell_type": "markdown",
      "metadata": {
        "id": "RAcyvTAFgNU8"
      },
      "source": [
        "## Shift predictions for plotting"
      ]
    },
    {
      "cell_type": "code",
      "metadata": {
        "id": "Wdj_RNRdgK4N"
      },
      "source": [
        "look_back=100\n",
        "trainPredictionPlot = np.empty_like(stock_data1) #shifting training predictions\n",
        "trainPredictionPlot[:, :] = np.nan\n",
        "trainPredictionPlot[look_back:len(train_prediction)+look_back, :] = train_prediction\n",
        "testPredictionPlot = np.empty_like(stock_data1) #shifting test predictions\n",
        "testPredictionPlot[:, :] = np.nan\n",
        "testPredictionPlot[len(train_prediction)+(look_back*2)+1:len(stock_data1)-1, :] = test_prediction"
      ],
      "execution_count": 25,
      "outputs": []
    },
    {
      "cell_type": "code",
      "metadata": {
        "colab": {
          "base_uri": "https://localhost:8080/",
          "height": 265
        },
        "id": "Hdok8-7ZgRR3",
        "outputId": "ed1548d5-e433-43af-da8f-689e609367b3"
      },
      "source": [
        "plt.plot(scaler.inverse_transform(stock_data1))\n",
        "plt.plot(trainPredictionPlot)\n",
        "plt.plot(testPredictionPlot)\n",
        "plt.show()"
      ],
      "execution_count": 26,
      "outputs": [
        {
          "output_type": "display_data",
          "data": {
            "image/png": "[encoded data removed]",
            "text/plain": [
              "<Figure size 432x288 with 1 Axes>"
            ]
          },
          "metadata": {
            "needs_background": "light"
          }
        }
      ]
    },
    {
      "cell_type": "code",
      "metadata": {
        "colab": {
          "base_uri": "https://localhost:8080/"
        },
        "id": "jVLUgSYpgUP5",
        "outputId": "df04a185-53f9-4107-d5aa-9c2af8448efb"
      },
      "source": [
        "\n",
        "len(test_data)"
      ],
      "execution_count": 27,
      "outputs": [
        {
          "output_type": "execute_result",
          "data": {
            "text/plain": [
              "713"
            ]
          },
          "metadata": {},
          "execution_count": 27
        }
      ]
    },
    {
      "cell_type": "code",
      "metadata": {
        "colab": {
          "base_uri": "https://localhost:8080/"
        },
        "id": "nx5EjYMhgXgS",
        "outputId": "dc969d7c-e583-4efb-de38-1f6b5aaa5a97"
      },
      "source": [
        "x_input=test_data[613:].reshape(1,-1)\n",
        "x_input.shape"
      ],
      "execution_count": 28,
      "outputs": [
        {
          "output_type": "execute_result",
          "data": {
            "text/plain": [
              "(1, 100)"
            ]
          },
          "metadata": {},
          "execution_count": 28
        }
      ]
    },
    {
      "cell_type": "code",
      "metadata": {
        "id": "IG0AV0dsgasF"
      },
      "source": [
        "temp_input=list(x_input)\n",
        "temp_input=temp_input[0].tolist()"
      ],
      "execution_count": 29,
      "outputs": []
    },
    {
      "cell_type": "markdown",
      "metadata": {
        "id": "4jl6xdYLgfXN"
      },
      "source": [
        "## Prediction for next 30 days"
      ]
    },
    {
      "cell_type": "code",
      "metadata": {
        "colab": {
          "base_uri": "https://localhost:8080/"
        },
        "id": "HZOHBChRgc23",
        "outputId": "368ed980-c543-4fda-b719-8a6d2281d49b"
      },
      "source": [
        "from numpy import array\n",
        "\n",
        "final_output=[]\n",
        "n_steps=100\n",
        "i=1\n",
        "while(i<=30):\n",
        "    \n",
        "    if(len(temp_input)>100):\n",
        "        x_input=np.array(temp_input[1:])\n",
        "        print(\"{} day input {}\".format(i,x_input))\n",
        "        x_input=x_input.reshape(1,-1)\n",
        "        x_input = x_input.reshape((1, n_steps, 1))\n",
        "        ypred = model.predict(x_input, verbose=0)\n",
        "        print(\"{} day output {}\".format(i,ypred))\n",
        "        temp_input.extend(ypred[0].tolist())\n",
        "        temp_input=temp_input[1:]\n",
        "        final_output.extend(ypred.tolist())\n",
        "        i=i+1\n",
        "    else:\n",
        "        x_input = x_input.reshape((1, n_steps,1))\n",
        "        ypred = model.predict(x_input, verbose=0)\n",
        "        print(ypred[0])\n",
        "        temp_input.extend(ypred[0].tolist())\n",
        "        print(len(temp_input))\n",
        "        final_output.extend(ypred.tolist())\n",
        "        i=i+1\n",
        "    \n",
        "\n",
        "print(final_output)"
      ],
      "execution_count": 30,
      "outputs": [
        {
          "output_type": "stream",
          "name": "stdout",
          "text": [
            "[0.16017017]\n",
            "101\n",
            "2 day input [0.13848039 0.14011438 0.13888889 0.13541667 0.14011438 0.1380719\n",
            " 0.13071895 0.13071895 0.12867647 0.11846405 0.14644608 0.14808007\n",
            " 0.15910948 0.15992647 0.15788399 0.16441993 0.17892157 0.17933007\n",
            " 0.19260621 0.20812908 0.18974673 0.18055556 0.18239379 0.17708333\n",
            " 0.17810458 0.18055556 0.17810458 0.17851307 0.19607843 0.18913399\n",
            " 0.18954248 0.19403595 0.19444444 0.20200163 0.19771242 0.19934641\n",
            " 0.19873366 0.1997549  0.2128268  0.21568627 0.20445261 0.21772876\n",
            " 0.21098856 0.21425654 0.19750817 0.18811275 0.17851307 0.17381536\n",
            " 0.16033497 0.16564542 0.17116013 0.17422386 0.18035131 0.17401961\n",
            " 0.16278595 0.16973039 0.17810458 0.17034314 0.16830065 0.17279412\n",
            " 0.17544935 0.18382353 0.19138072 0.18913399 0.19097222 0.17238562\n",
            " 0.16830065 0.1693219  0.17177288 0.16156046 0.14971405 0.1503268\n",
            " 0.15196078 0.14726307 0.14501634 0.14603758 0.12479575 0.13112745\n",
            " 0.11397059 0.1190768  0.12377451 0.13562092 0.12908497 0.13459967\n",
            " 0.12806373 0.13031046 0.12724673 0.13521242 0.14522059 0.15257353\n",
            " 0.14848856 0.14338235 0.14562908 0.15236928 0.15400327 0.14971405\n",
            " 0.1621732  0.16319444 0.16584967 0.16017017]\n",
            "2 day output [[0.1620122]]\n",
            "3 day input [0.14011438 0.13888889 0.13541667 0.14011438 0.1380719  0.13071895\n",
            " 0.13071895 0.12867647 0.11846405 0.14644608 0.14808007 0.15910948\n",
            " 0.15992647 0.15788399 0.16441993 0.17892157 0.17933007 0.19260621\n",
            " 0.20812908 0.18974673 0.18055556 0.18239379 0.17708333 0.17810458\n",
            " 0.18055556 0.17810458 0.17851307 0.19607843 0.18913399 0.18954248\n",
            " 0.19403595 0.19444444 0.20200163 0.19771242 0.19934641 0.19873366\n",
            " 0.1997549  0.2128268  0.21568627 0.20445261 0.21772876 0.21098856\n",
            " 0.21425654 0.19750817 0.18811275 0.17851307 0.17381536 0.16033497\n",
            " 0.16564542 0.17116013 0.17422386 0.18035131 0.17401961 0.16278595\n",
            " 0.16973039 0.17810458 0.17034314 0.16830065 0.17279412 0.17544935\n",
            " 0.18382353 0.19138072 0.18913399 0.19097222 0.17238562 0.16830065\n",
            " 0.1693219  0.17177288 0.16156046 0.14971405 0.1503268  0.15196078\n",
            " 0.14726307 0.14501634 0.14603758 0.12479575 0.13112745 0.11397059\n",
            " 0.1190768  0.12377451 0.13562092 0.12908497 0.13459967 0.12806373\n",
            " 0.13031046 0.12724673 0.13521242 0.14522059 0.15257353 0.14848856\n",
            " 0.14338235 0.14562908 0.15236928 0.15400327 0.14971405 0.1621732\n",
            " 0.16319444 0.16584967 0.16017017 0.1620122 ]\n",
            "3 day output [[0.16345307]]\n",
            "4 day input [0.13888889 0.13541667 0.14011438 0.1380719  0.13071895 0.13071895\n",
            " 0.12867647 0.11846405 0.14644608 0.14808007 0.15910948 0.15992647\n",
            " 0.15788399 0.16441993 0.17892157 0.17933007 0.19260621 0.20812908\n",
            " 0.18974673 0.18055556 0.18239379 0.17708333 0.17810458 0.18055556\n",
            " 0.17810458 0.17851307 0.19607843 0.18913399 0.18954248 0.19403595\n",
            " 0.19444444 0.20200163 0.19771242 0.19934641 0.19873366 0.1997549\n",
            " 0.2128268  0.21568627 0.20445261 0.21772876 0.21098856 0.21425654\n",
            " 0.19750817 0.18811275 0.17851307 0.17381536 0.16033497 0.16564542\n",
            " 0.17116013 0.17422386 0.18035131 0.17401961 0.16278595 0.16973039\n",
            " 0.17810458 0.17034314 0.16830065 0.17279412 0.17544935 0.18382353\n",
            " 0.19138072 0.18913399 0.19097222 0.17238562 0.16830065 0.1693219\n",
            " 0.17177288 0.16156046 0.14971405 0.1503268  0.15196078 0.14726307\n",
            " 0.14501634 0.14603758 0.12479575 0.13112745 0.11397059 0.1190768\n",
            " 0.12377451 0.13562092 0.12908497 0.13459967 0.12806373 0.13031046\n",
            " 0.12724673 0.13521242 0.14522059 0.15257353 0.14848856 0.14338235\n",
            " 0.14562908 0.15236928 0.15400327 0.14971405 0.1621732  0.16319444\n",
            " 0.16584967 0.16017017 0.1620122  0.16345307]\n",
            "4 day output [[0.16454817]]\n",
            "5 day input [0.13541667 0.14011438 0.1380719  0.13071895 0.13071895 0.12867647\n",
            " 0.11846405 0.14644608 0.14808007 0.15910948 0.15992647 0.15788399\n",
            " 0.16441993 0.17892157 0.17933007 0.19260621 0.20812908 0.18974673\n",
            " 0.18055556 0.18239379 0.17708333 0.17810458 0.18055556 0.17810458\n",
            " 0.17851307 0.19607843 0.18913399 0.18954248 0.19403595 0.19444444\n",
            " 0.20200163 0.19771242 0.19934641 0.19873366 0.1997549  0.2128268\n",
            " 0.21568627 0.20445261 0.21772876 0.21098856 0.21425654 0.19750817\n",
            " 0.18811275 0.17851307 0.17381536 0.16033497 0.16564542 0.17116013\n",
            " 0.17422386 0.18035131 0.17401961 0.16278595 0.16973039 0.17810458\n",
            " 0.17034314 0.16830065 0.17279412 0.17544935 0.18382353 0.19138072\n",
            " 0.18913399 0.19097222 0.17238562 0.16830065 0.1693219  0.17177288\n",
            " 0.16156046 0.14971405 0.1503268  0.15196078 0.14726307 0.14501634\n",
            " 0.14603758 0.12479575 0.13112745 0.11397059 0.1190768  0.12377451\n",
            " 0.13562092 0.12908497 0.13459967 0.12806373 0.13031046 0.12724673\n",
            " 0.13521242 0.14522059 0.15257353 0.14848856 0.14338235 0.14562908\n",
            " 0.15236928 0.15400327 0.14971405 0.1621732  0.16319444 0.16584967\n",
            " 0.16017017 0.1620122  0.16345307 0.16454817]\n",
            "5 day output [[0.16539781]]\n",
            "6 day input [0.14011438 0.1380719  0.13071895 0.13071895 0.12867647 0.11846405\n",
            " 0.14644608 0.14808007 0.15910948 0.15992647 0.15788399 0.16441993\n",
            " 0.17892157 0.17933007 0.19260621 0.20812908 0.18974673 0.18055556\n",
            " 0.18239379 0.17708333 0.17810458 0.18055556 0.17810458 0.17851307\n",
            " 0.19607843 0.18913399 0.18954248 0.19403595 0.19444444 0.20200163\n",
            " 0.19771242 0.19934641 0.19873366 0.1997549  0.2128268  0.21568627\n",
            " 0.20445261 0.21772876 0.21098856 0.21425654 0.19750817 0.18811275\n",
            " 0.17851307 0.17381536 0.16033497 0.16564542 0.17116013 0.17422386\n",
            " 0.18035131 0.17401961 0.16278595 0.16973039 0.17810458 0.17034314\n",
            " 0.16830065 0.17279412 0.17544935 0.18382353 0.19138072 0.18913399\n",
            " 0.19097222 0.17238562 0.16830065 0.1693219  0.17177288 0.16156046\n",
            " 0.14971405 0.1503268  0.15196078 0.14726307 0.14501634 0.14603758\n",
            " 0.12479575 0.13112745 0.11397059 0.1190768  0.12377451 0.13562092\n",
            " 0.12908497 0.13459967 0.12806373 0.13031046 0.12724673 0.13521242\n",
            " 0.14522059 0.15257353 0.14848856 0.14338235 0.14562908 0.15236928\n",
            " 0.15400327 0.14971405 0.1621732  0.16319444 0.16584967 0.16017017\n",
            " 0.1620122  0.16345307 0.16454817 0.16539781]\n",
            "6 day output [[0.16609274]]\n",
            "7 day input [0.1380719  0.13071895 0.13071895 0.12867647 0.11846405 0.14644608\n",
            " 0.14808007 0.15910948 0.15992647 0.15788399 0.16441993 0.17892157\n",
            " 0.17933007 0.19260621 0.20812908 0.18974673 0.18055556 0.18239379\n",
            " 0.17708333 0.17810458 0.18055556 0.17810458 0.17851307 0.19607843\n",
            " 0.18913399 0.18954248 0.19403595 0.19444444 0.20200163 0.19771242\n",
            " 0.19934641 0.19873366 0.1997549  0.2128268  0.21568627 0.20445261\n",
            " 0.21772876 0.21098856 0.21425654 0.19750817 0.18811275 0.17851307\n",
            " 0.17381536 0.16033497 0.16564542 0.17116013 0.17422386 0.18035131\n",
            " 0.17401961 0.16278595 0.16973039 0.17810458 0.17034314 0.16830065\n",
            " 0.17279412 0.17544935 0.18382353 0.19138072 0.18913399 0.19097222\n",
            " 0.17238562 0.16830065 0.1693219  0.17177288 0.16156046 0.14971405\n",
            " 0.1503268  0.15196078 0.14726307 0.14501634 0.14603758 0.12479575\n",
            " 0.13112745 0.11397059 0.1190768  0.12377451 0.13562092 0.12908497\n",
            " 0.13459967 0.12806373 0.13031046 0.12724673 0.13521242 0.14522059\n",
            " 0.15257353 0.14848856 0.14338235 0.14562908 0.15236928 0.15400327\n",
            " 0.14971405 0.1621732  0.16319444 0.16584967 0.16017017 0.1620122\n",
            " 0.16345307 0.16454817 0.16539781 0.16609274]\n",
            "7 day output [[0.16669771]]\n",
            "8 day input [0.13071895 0.13071895 0.12867647 0.11846405 0.14644608 0.14808007\n",
            " 0.15910948 0.15992647 0.15788399 0.16441993 0.17892157 0.17933007\n",
            " 0.19260621 0.20812908 0.18974673 0.18055556 0.18239379 0.17708333\n",
            " 0.17810458 0.18055556 0.17810458 0.17851307 0.19607843 0.18913399\n",
            " 0.18954248 0.19403595 0.19444444 0.20200163 0.19771242 0.19934641\n",
            " 0.19873366 0.1997549  0.2128268  0.21568627 0.20445261 0.21772876\n",
            " 0.21098856 0.21425654 0.19750817 0.18811275 0.17851307 0.17381536\n",
            " 0.16033497 0.16564542 0.17116013 0.17422386 0.18035131 0.17401961\n",
            " 0.16278595 0.16973039 0.17810458 0.17034314 0.16830065 0.17279412\n",
            " 0.17544935 0.18382353 0.19138072 0.18913399 0.19097222 0.17238562\n",
            " 0.16830065 0.1693219  0.17177288 0.16156046 0.14971405 0.1503268\n",
            " 0.15196078 0.14726307 0.14501634 0.14603758 0.12479575 0.13112745\n",
            " 0.11397059 0.1190768  0.12377451 0.13562092 0.12908497 0.13459967\n",
            " 0.12806373 0.13031046 0.12724673 0.13521242 0.14522059 0.15257353\n",
            " 0.14848856 0.14338235 0.14562908 0.15236928 0.15400327 0.14971405\n",
            " 0.1621732  0.16319444 0.16584967 0.16017017 0.1620122  0.16345307\n",
            " 0.16454817 0.16539781 0.16609274 0.16669771]\n",
            "8 day output [[0.16725308]]\n",
            "9 day input [0.13071895 0.12867647 0.11846405 0.14644608 0.14808007 0.15910948\n",
            " 0.15992647 0.15788399 0.16441993 0.17892157 0.17933007 0.19260621\n",
            " 0.20812908 0.18974673 0.18055556 0.18239379 0.17708333 0.17810458\n",
            " 0.18055556 0.17810458 0.17851307 0.19607843 0.18913399 0.18954248\n",
            " 0.19403595 0.19444444 0.20200163 0.19771242 0.19934641 0.19873366\n",
            " 0.1997549  0.2128268  0.21568627 0.20445261 0.21772876 0.21098856\n",
            " 0.21425654 0.19750817 0.18811275 0.17851307 0.17381536 0.16033497\n",
            " 0.16564542 0.17116013 0.17422386 0.18035131 0.17401961 0.16278595\n",
            " 0.16973039 0.17810458 0.17034314 0.16830065 0.17279412 0.17544935\n",
            " 0.18382353 0.19138072 0.18913399 0.19097222 0.17238562 0.16830065\n",
            " 0.1693219  0.17177288 0.16156046 0.14971405 0.1503268  0.15196078\n",
            " 0.14726307 0.14501634 0.14603758 0.12479575 0.13112745 0.11397059\n",
            " 0.1190768  0.12377451 0.13562092 0.12908497 0.13459967 0.12806373\n",
            " 0.13031046 0.12724673 0.13521242 0.14522059 0.15257353 0.14848856\n",
            " 0.14338235 0.14562908 0.15236928 0.15400327 0.14971405 0.1621732\n",
            " 0.16319444 0.16584967 0.16017017 0.1620122  0.16345307 0.16454817\n",
            " 0.16539781 0.16609274 0.16669771 0.16725308]\n",
            "9 day output [[0.1677816]]\n",
            "10 day input [0.12867647 0.11846405 0.14644608 0.14808007 0.15910948 0.15992647\n",
            " 0.15788399 0.16441993 0.17892157 0.17933007 0.19260621 0.20812908\n",
            " 0.18974673 0.18055556 0.18239379 0.17708333 0.17810458 0.18055556\n",
            " 0.17810458 0.17851307 0.19607843 0.18913399 0.18954248 0.19403595\n",
            " 0.19444444 0.20200163 0.19771242 0.19934641 0.19873366 0.1997549\n",
            " 0.2128268  0.21568627 0.20445261 0.21772876 0.21098856 0.21425654\n",
            " 0.19750817 0.18811275 0.17851307 0.17381536 0.16033497 0.16564542\n",
            " 0.17116013 0.17422386 0.18035131 0.17401961 0.16278595 0.16973039\n",
            " 0.17810458 0.17034314 0.16830065 0.17279412 0.17544935 0.18382353\n",
            " 0.19138072 0.18913399 0.19097222 0.17238562 0.16830065 0.1693219\n",
            " 0.17177288 0.16156046 0.14971405 0.1503268  0.15196078 0.14726307\n",
            " 0.14501634 0.14603758 0.12479575 0.13112745 0.11397059 0.1190768\n",
            " 0.12377451 0.13562092 0.12908497 0.13459967 0.12806373 0.13031046\n",
            " 0.12724673 0.13521242 0.14522059 0.15257353 0.14848856 0.14338235\n",
            " 0.14562908 0.15236928 0.15400327 0.14971405 0.1621732  0.16319444\n",
            " 0.16584967 0.16017017 0.1620122  0.16345307 0.16454817 0.16539781\n",
            " 0.16609274 0.16669771 0.16725308 0.16778161]\n",
            "10 day output [[0.16829525]]\n",
            "11 day input [0.11846405 0.14644608 0.14808007 0.15910948 0.15992647 0.15788399\n",
            " 0.16441993 0.17892157 0.17933007 0.19260621 0.20812908 0.18974673\n",
            " 0.18055556 0.18239379 0.17708333 0.17810458 0.18055556 0.17810458\n",
            " 0.17851307 0.19607843 0.18913399 0.18954248 0.19403595 0.19444444\n",
            " 0.20200163 0.19771242 0.19934641 0.19873366 0.1997549  0.2128268\n",
            " 0.21568627 0.20445261 0.21772876 0.21098856 0.21425654 0.19750817\n",
            " 0.18811275 0.17851307 0.17381536 0.16033497 0.16564542 0.17116013\n",
            " 0.17422386 0.18035131 0.17401961 0.16278595 0.16973039 0.17810458\n",
            " 0.17034314 0.16830065 0.17279412 0.17544935 0.18382353 0.19138072\n",
            " 0.18913399 0.19097222 0.17238562 0.16830065 0.1693219  0.17177288\n",
            " 0.16156046 0.14971405 0.1503268  0.15196078 0.14726307 0.14501634\n",
            " 0.14603758 0.12479575 0.13112745 0.11397059 0.1190768  0.12377451\n",
            " 0.13562092 0.12908497 0.13459967 0.12806373 0.13031046 0.12724673\n",
            " 0.13521242 0.14522059 0.15257353 0.14848856 0.14338235 0.14562908\n",
            " 0.15236928 0.15400327 0.14971405 0.1621732  0.16319444 0.16584967\n",
            " 0.16017017 0.1620122  0.16345307 0.16454817 0.16539781 0.16609274\n",
            " 0.16669771 0.16725308 0.16778161 0.16829525]\n",
            "11 day output [[0.16879992]]\n",
            "12 day input [0.14644608 0.14808007 0.15910948 0.15992647 0.15788399 0.16441993\n",
            " 0.17892157 0.17933007 0.19260621 0.20812908 0.18974673 0.18055556\n",
            " 0.18239379 0.17708333 0.17810458 0.18055556 0.17810458 0.17851307\n",
            " 0.19607843 0.18913399 0.18954248 0.19403595 0.19444444 0.20200163\n",
            " 0.19771242 0.19934641 0.19873366 0.1997549  0.2128268  0.21568627\n",
            " 0.20445261 0.21772876 0.21098856 0.21425654 0.19750817 0.18811275\n",
            " 0.17851307 0.17381536 0.16033497 0.16564542 0.17116013 0.17422386\n",
            " 0.18035131 0.17401961 0.16278595 0.16973039 0.17810458 0.17034314\n",
            " 0.16830065 0.17279412 0.17544935 0.18382353 0.19138072 0.18913399\n",
            " 0.19097222 0.17238562 0.16830065 0.1693219  0.17177288 0.16156046\n",
            " 0.14971405 0.1503268  0.15196078 0.14726307 0.14501634 0.14603758\n",
            " 0.12479575 0.13112745 0.11397059 0.1190768  0.12377451 0.13562092\n",
            " 0.12908497 0.13459967 0.12806373 0.13031046 0.12724673 0.13521242\n",
            " 0.14522059 0.15257353 0.14848856 0.14338235 0.14562908 0.15236928\n",
            " 0.15400327 0.14971405 0.1621732  0.16319444 0.16584967 0.16017017\n",
            " 0.1620122  0.16345307 0.16454817 0.16539781 0.16609274 0.16669771\n",
            " 0.16725308 0.16778161 0.16829525 0.16879992]\n",
            "12 day output [[0.16929863]]\n",
            "13 day input [0.14808007 0.15910948 0.15992647 0.15788399 0.16441993 0.17892157\n",
            " 0.17933007 0.19260621 0.20812908 0.18974673 0.18055556 0.18239379\n",
            " 0.17708333 0.17810458 0.18055556 0.17810458 0.17851307 0.19607843\n",
            " 0.18913399 0.18954248 0.19403595 0.19444444 0.20200163 0.19771242\n",
            " 0.19934641 0.19873366 0.1997549  0.2128268  0.21568627 0.20445261\n",
            " 0.21772876 0.21098856 0.21425654 0.19750817 0.18811275 0.17851307\n",
            " 0.17381536 0.16033497 0.16564542 0.17116013 0.17422386 0.18035131\n",
            " 0.17401961 0.16278595 0.16973039 0.17810458 0.17034314 0.16830065\n",
            " 0.17279412 0.17544935 0.18382353 0.19138072 0.18913399 0.19097222\n",
            " 0.17238562 0.16830065 0.1693219  0.17177288 0.16156046 0.14971405\n",
            " 0.1503268  0.15196078 0.14726307 0.14501634 0.14603758 0.12479575\n",
            " 0.13112745 0.11397059 0.1190768  0.12377451 0.13562092 0.12908497\n",
            " 0.13459967 0.12806373 0.13031046 0.12724673 0.13521242 0.14522059\n",
            " 0.15257353 0.14848856 0.14338235 0.14562908 0.15236928 0.15400327\n",
            " 0.14971405 0.1621732  0.16319444 0.16584967 0.16017017 0.1620122\n",
            " 0.16345307 0.16454817 0.16539781 0.16609274 0.16669771 0.16725308\n",
            " 0.16778161 0.16829525 0.16879992 0.16929863]\n",
            "13 day output [[0.16979297]]\n",
            "14 day input [0.15910948 0.15992647 0.15788399 0.16441993 0.17892157 0.17933007\n",
            " 0.19260621 0.20812908 0.18974673 0.18055556 0.18239379 0.17708333\n",
            " 0.17810458 0.18055556 0.17810458 0.17851307 0.19607843 0.18913399\n",
            " 0.18954248 0.19403595 0.19444444 0.20200163 0.19771242 0.19934641\n",
            " 0.19873366 0.1997549  0.2128268  0.21568627 0.20445261 0.21772876\n",
            " 0.21098856 0.21425654 0.19750817 0.18811275 0.17851307 0.17381536\n",
            " 0.16033497 0.16564542 0.17116013 0.17422386 0.18035131 0.17401961\n",
            " 0.16278595 0.16973039 0.17810458 0.17034314 0.16830065 0.17279412\n",
            " 0.17544935 0.18382353 0.19138072 0.18913399 0.19097222 0.17238562\n",
            " 0.16830065 0.1693219  0.17177288 0.16156046 0.14971405 0.1503268\n",
            " 0.15196078 0.14726307 0.14501634 0.14603758 0.12479575 0.13112745\n",
            " 0.11397059 0.1190768  0.12377451 0.13562092 0.12908497 0.13459967\n",
            " 0.12806373 0.13031046 0.12724673 0.13521242 0.14522059 0.15257353\n",
            " 0.14848856 0.14338235 0.14562908 0.15236928 0.15400327 0.14971405\n",
            " 0.1621732  0.16319444 0.16584967 0.16017017 0.1620122  0.16345307\n",
            " 0.16454817 0.16539781 0.16609274 0.16669771 0.16725308 0.16778161\n",
            " 0.16829525 0.16879992 0.16929863 0.16979297]\n",
            "14 day output [[0.17028381]]\n",
            "15 day input [0.15992647 0.15788399 0.16441993 0.17892157 0.17933007 0.19260621\n",
            " 0.20812908 0.18974673 0.18055556 0.18239379 0.17708333 0.17810458\n",
            " 0.18055556 0.17810458 0.17851307 0.19607843 0.18913399 0.18954248\n",
            " 0.19403595 0.19444444 0.20200163 0.19771242 0.19934641 0.19873366\n",
            " 0.1997549  0.2128268  0.21568627 0.20445261 0.21772876 0.21098856\n",
            " 0.21425654 0.19750817 0.18811275 0.17851307 0.17381536 0.16033497\n",
            " 0.16564542 0.17116013 0.17422386 0.18035131 0.17401961 0.16278595\n",
            " 0.16973039 0.17810458 0.17034314 0.16830065 0.17279412 0.17544935\n",
            " 0.18382353 0.19138072 0.18913399 0.19097222 0.17238562 0.16830065\n",
            " 0.1693219  0.17177288 0.16156046 0.14971405 0.1503268  0.15196078\n",
            " 0.14726307 0.14501634 0.14603758 0.12479575 0.13112745 0.11397059\n",
            " 0.1190768  0.12377451 0.13562092 0.12908497 0.13459967 0.12806373\n",
            " 0.13031046 0.12724673 0.13521242 0.14522059 0.15257353 0.14848856\n",
            " 0.14338235 0.14562908 0.15236928 0.15400327 0.14971405 0.1621732\n",
            " 0.16319444 0.16584967 0.16017017 0.1620122  0.16345307 0.16454817\n",
            " 0.16539781 0.16609274 0.16669771 0.16725308 0.16778161 0.16829525\n",
            " 0.16879992 0.16929863 0.16979297 0.17028381]\n",
            "15 day output [[0.17077164]]\n",
            "16 day input [0.15788399 0.16441993 0.17892157 0.17933007 0.19260621 0.20812908\n",
            " 0.18974673 0.18055556 0.18239379 0.17708333 0.17810458 0.18055556\n",
            " 0.17810458 0.17851307 0.19607843 0.18913399 0.18954248 0.19403595\n",
            " 0.19444444 0.20200163 0.19771242 0.19934641 0.19873366 0.1997549\n",
            " 0.2128268  0.21568627 0.20445261 0.21772876 0.21098856 0.21425654\n",
            " 0.19750817 0.18811275 0.17851307 0.17381536 0.16033497 0.16564542\n",
            " 0.17116013 0.17422386 0.18035131 0.17401961 0.16278595 0.16973039\n",
            " 0.17810458 0.17034314 0.16830065 0.17279412 0.17544935 0.18382353\n",
            " 0.19138072 0.18913399 0.19097222 0.17238562 0.16830065 0.1693219\n",
            " 0.17177288 0.16156046 0.14971405 0.1503268  0.15196078 0.14726307\n",
            " 0.14501634 0.14603758 0.12479575 0.13112745 0.11397059 0.1190768\n",
            " 0.12377451 0.13562092 0.12908497 0.13459967 0.12806373 0.13031046\n",
            " 0.12724673 0.13521242 0.14522059 0.15257353 0.14848856 0.14338235\n",
            " 0.14562908 0.15236928 0.15400327 0.14971405 0.1621732  0.16319444\n",
            " 0.16584967 0.16017017 0.1620122  0.16345307 0.16454817 0.16539781\n",
            " 0.16609274 0.16669771 0.16725308 0.16778161 0.16829525 0.16879992\n",
            " 0.16929863 0.16979297 0.17028381 0.17077164]\n",
            "16 day output [[0.1712566]]\n",
            "17 day input [0.16441993 0.17892157 0.17933007 0.19260621 0.20812908 0.18974673\n",
            " 0.18055556 0.18239379 0.17708333 0.17810458 0.18055556 0.17810458\n",
            " 0.17851307 0.19607843 0.18913399 0.18954248 0.19403595 0.19444444\n",
            " 0.20200163 0.19771242 0.19934641 0.19873366 0.1997549  0.2128268\n",
            " 0.21568627 0.20445261 0.21772876 0.21098856 0.21425654 0.19750817\n",
            " 0.18811275 0.17851307 0.17381536 0.16033497 0.16564542 0.17116013\n",
            " 0.17422386 0.18035131 0.17401961 0.16278595 0.16973039 0.17810458\n",
            " 0.17034314 0.16830065 0.17279412 0.17544935 0.18382353 0.19138072\n",
            " 0.18913399 0.19097222 0.17238562 0.16830065 0.1693219  0.17177288\n",
            " 0.16156046 0.14971405 0.1503268  0.15196078 0.14726307 0.14501634\n",
            " 0.14603758 0.12479575 0.13112745 0.11397059 0.1190768  0.12377451\n",
            " 0.13562092 0.12908497 0.13459967 0.12806373 0.13031046 0.12724673\n",
            " 0.13521242 0.14522059 0.15257353 0.14848856 0.14338235 0.14562908\n",
            " 0.15236928 0.15400327 0.14971405 0.1621732  0.16319444 0.16584967\n",
            " 0.16017017 0.1620122  0.16345307 0.16454817 0.16539781 0.16609274\n",
            " 0.16669771 0.16725308 0.16778161 0.16829525 0.16879992 0.16929863\n",
            " 0.16979297 0.17028381 0.17077164 0.1712566 ]\n",
            "17 day output [[0.17173861]]\n",
            "18 day input [0.17892157 0.17933007 0.19260621 0.20812908 0.18974673 0.18055556\n",
            " 0.18239379 0.17708333 0.17810458 0.18055556 0.17810458 0.17851307\n",
            " 0.19607843 0.18913399 0.18954248 0.19403595 0.19444444 0.20200163\n",
            " 0.19771242 0.19934641 0.19873366 0.1997549  0.2128268  0.21568627\n",
            " 0.20445261 0.21772876 0.21098856 0.21425654 0.19750817 0.18811275\n",
            " 0.17851307 0.17381536 0.16033497 0.16564542 0.17116013 0.17422386\n",
            " 0.18035131 0.17401961 0.16278595 0.16973039 0.17810458 0.17034314\n",
            " 0.16830065 0.17279412 0.17544935 0.18382353 0.19138072 0.18913399\n",
            " 0.19097222 0.17238562 0.16830065 0.1693219  0.17177288 0.16156046\n",
            " 0.14971405 0.1503268  0.15196078 0.14726307 0.14501634 0.14603758\n",
            " 0.12479575 0.13112745 0.11397059 0.1190768  0.12377451 0.13562092\n",
            " 0.12908497 0.13459967 0.12806373 0.13031046 0.12724673 0.13521242\n",
            " 0.14522059 0.15257353 0.14848856 0.14338235 0.14562908 0.15236928\n",
            " 0.15400327 0.14971405 0.1621732  0.16319444 0.16584967 0.16017017\n",
            " 0.1620122  0.16345307 0.16454817 0.16539781 0.16609274 0.16669771\n",
            " 0.16725308 0.16778161 0.16829525 0.16879992 0.16929863 0.16979297\n",
            " 0.17028381 0.17077164 0.1712566  0.17173861]\n",
            "18 day output [[0.1722173]]\n",
            "19 day input [0.17933007 0.19260621 0.20812908 0.18974673 0.18055556 0.18239379\n",
            " 0.17708333 0.17810458 0.18055556 0.17810458 0.17851307 0.19607843\n",
            " 0.18913399 0.18954248 0.19403595 0.19444444 0.20200163 0.19771242\n",
            " 0.19934641 0.19873366 0.1997549  0.2128268  0.21568627 0.20445261\n",
            " 0.21772876 0.21098856 0.21425654 0.19750817 0.18811275 0.17851307\n",
            " 0.17381536 0.16033497 0.16564542 0.17116013 0.17422386 0.18035131\n",
            " 0.17401961 0.16278595 0.16973039 0.17810458 0.17034314 0.16830065\n",
            " 0.17279412 0.17544935 0.18382353 0.19138072 0.18913399 0.19097222\n",
            " 0.17238562 0.16830065 0.1693219  0.17177288 0.16156046 0.14971405\n",
            " 0.1503268  0.15196078 0.14726307 0.14501634 0.14603758 0.12479575\n",
            " 0.13112745 0.11397059 0.1190768  0.12377451 0.13562092 0.12908497\n",
            " 0.13459967 0.12806373 0.13031046 0.12724673 0.13521242 0.14522059\n",
            " 0.15257353 0.14848856 0.14338235 0.14562908 0.15236928 0.15400327\n",
            " 0.14971405 0.1621732  0.16319444 0.16584967 0.16017017 0.1620122\n",
            " 0.16345307 0.16454817 0.16539781 0.16609274 0.16669771 0.16725308\n",
            " 0.16778161 0.16829525 0.16879992 0.16929863 0.16979297 0.17028381\n",
            " 0.17077164 0.1712566  0.17173861 0.17221729]\n",
            "19 day output [[0.17269215]]\n",
            "20 day input [0.19260621 0.20812908 0.18974673 0.18055556 0.18239379 0.17708333\n",
            " 0.17810458 0.18055556 0.17810458 0.17851307 0.19607843 0.18913399\n",
            " 0.18954248 0.19403595 0.19444444 0.20200163 0.19771242 0.19934641\n",
            " 0.19873366 0.1997549  0.2128268  0.21568627 0.20445261 0.21772876\n",
            " 0.21098856 0.21425654 0.19750817 0.18811275 0.17851307 0.17381536\n",
            " 0.16033497 0.16564542 0.17116013 0.17422386 0.18035131 0.17401961\n",
            " 0.16278595 0.16973039 0.17810458 0.17034314 0.16830065 0.17279412\n",
            " 0.17544935 0.18382353 0.19138072 0.18913399 0.19097222 0.17238562\n",
            " 0.16830065 0.1693219  0.17177288 0.16156046 0.14971405 0.1503268\n",
            " 0.15196078 0.14726307 0.14501634 0.14603758 0.12479575 0.13112745\n",
            " 0.11397059 0.1190768  0.12377451 0.13562092 0.12908497 0.13459967\n",
            " 0.12806373 0.13031046 0.12724673 0.13521242 0.14522059 0.15257353\n",
            " 0.14848856 0.14338235 0.14562908 0.15236928 0.15400327 0.14971405\n",
            " 0.1621732  0.16319444 0.16584967 0.16017017 0.1620122  0.16345307\n",
            " 0.16454817 0.16539781 0.16609274 0.16669771 0.16725308 0.16778161\n",
            " 0.16829525 0.16879992 0.16929863 0.16979297 0.17028381 0.17077164\n",
            " 0.1712566  0.17173861 0.17221729 0.17269215]\n",
            "20 day output [[0.17316248]]\n",
            "21 day input [0.20812908 0.18974673 0.18055556 0.18239379 0.17708333 0.17810458\n",
            " 0.18055556 0.17810458 0.17851307 0.19607843 0.18913399 0.18954248\n",
            " 0.19403595 0.19444444 0.20200163 0.19771242 0.19934641 0.19873366\n",
            " 0.1997549  0.2128268  0.21568627 0.20445261 0.21772876 0.21098856\n",
            " 0.21425654 0.19750817 0.18811275 0.17851307 0.17381536 0.16033497\n",
            " 0.16564542 0.17116013 0.17422386 0.18035131 0.17401961 0.16278595\n",
            " 0.16973039 0.17810458 0.17034314 0.16830065 0.17279412 0.17544935\n",
            " 0.18382353 0.19138072 0.18913399 0.19097222 0.17238562 0.16830065\n",
            " 0.1693219  0.17177288 0.16156046 0.14971405 0.1503268  0.15196078\n",
            " 0.14726307 0.14501634 0.14603758 0.12479575 0.13112745 0.11397059\n",
            " 0.1190768  0.12377451 0.13562092 0.12908497 0.13459967 0.12806373\n",
            " 0.13031046 0.12724673 0.13521242 0.14522059 0.15257353 0.14848856\n",
            " 0.14338235 0.14562908 0.15236928 0.15400327 0.14971405 0.1621732\n",
            " 0.16319444 0.16584967 0.16017017 0.1620122  0.16345307 0.16454817\n",
            " 0.16539781 0.16609274 0.16669771 0.16725308 0.16778161 0.16829525\n",
            " 0.16879992 0.16929863 0.16979297 0.17028381 0.17077164 0.1712566\n",
            " 0.17173861 0.17221729 0.17269215 0.17316248]\n",
            "21 day output [[0.17362761]]\n",
            "22 day input [0.18974673 0.18055556 0.18239379 0.17708333 0.17810458 0.18055556\n",
            " 0.17810458 0.17851307 0.19607843 0.18913399 0.18954248 0.19403595\n",
            " 0.19444444 0.20200163 0.19771242 0.19934641 0.19873366 0.1997549\n",
            " 0.2128268  0.21568627 0.20445261 0.21772876 0.21098856 0.21425654\n",
            " 0.19750817 0.18811275 0.17851307 0.17381536 0.16033497 0.16564542\n",
            " 0.17116013 0.17422386 0.18035131 0.17401961 0.16278595 0.16973039\n",
            " 0.17810458 0.17034314 0.16830065 0.17279412 0.17544935 0.18382353\n",
            " 0.19138072 0.18913399 0.19097222 0.17238562 0.16830065 0.1693219\n",
            " 0.17177288 0.16156046 0.14971405 0.1503268  0.15196078 0.14726307\n",
            " 0.14501634 0.14603758 0.12479575 0.13112745 0.11397059 0.1190768\n",
            " 0.12377451 0.13562092 0.12908497 0.13459967 0.12806373 0.13031046\n",
            " 0.12724673 0.13521242 0.14522059 0.15257353 0.14848856 0.14338235\n",
            " 0.14562908 0.15236928 0.15400327 0.14971405 0.1621732  0.16319444\n",
            " 0.16584967 0.16017017 0.1620122  0.16345307 0.16454817 0.16539781\n",
            " 0.16609274 0.16669771 0.16725308 0.16778161 0.16829525 0.16879992\n",
            " 0.16929863 0.16979297 0.17028381 0.17077164 0.1712566  0.17173861\n",
            " 0.17221729 0.17269215 0.17316248 0.17362761]\n",
            "22 day output [[0.17408678]]\n",
            "23 day input [0.18055556 0.18239379 0.17708333 0.17810458 0.18055556 0.17810458\n",
            " 0.17851307 0.19607843 0.18913399 0.18954248 0.19403595 0.19444444\n",
            " 0.20200163 0.19771242 0.19934641 0.19873366 0.1997549  0.2128268\n",
            " 0.21568627 0.20445261 0.21772876 0.21098856 0.21425654 0.19750817\n",
            " 0.18811275 0.17851307 0.17381536 0.16033497 0.16564542 0.17116013\n",
            " 0.17422386 0.18035131 0.17401961 0.16278595 0.16973039 0.17810458\n",
            " 0.17034314 0.16830065 0.17279412 0.17544935 0.18382353 0.19138072\n",
            " 0.18913399 0.19097222 0.17238562 0.16830065 0.1693219  0.17177288\n",
            " 0.16156046 0.14971405 0.1503268  0.15196078 0.14726307 0.14501634\n",
            " 0.14603758 0.12479575 0.13112745 0.11397059 0.1190768  0.12377451\n",
            " 0.13562092 0.12908497 0.13459967 0.12806373 0.13031046 0.12724673\n",
            " 0.13521242 0.14522059 0.15257353 0.14848856 0.14338235 0.14562908\n",
            " 0.15236928 0.15400327 0.14971405 0.1621732  0.16319444 0.16584967\n",
            " 0.16017017 0.1620122  0.16345307 0.16454817 0.16539781 0.16609274\n",
            " 0.16669771 0.16725308 0.16778161 0.16829525 0.16879992 0.16929863\n",
            " 0.16979297 0.17028381 0.17077164 0.1712566  0.17173861 0.17221729\n",
            " 0.17269215 0.17316248 0.17362761 0.17408678]\n",
            "23 day output [[0.17453928]]\n",
            "24 day input [0.18239379 0.17708333 0.17810458 0.18055556 0.17810458 0.17851307\n",
            " 0.19607843 0.18913399 0.18954248 0.19403595 0.19444444 0.20200163\n",
            " 0.19771242 0.19934641 0.19873366 0.1997549  0.2128268  0.21568627\n",
            " 0.20445261 0.21772876 0.21098856 0.21425654 0.19750817 0.18811275\n",
            " 0.17851307 0.17381536 0.16033497 0.16564542 0.17116013 0.17422386\n",
            " 0.18035131 0.17401961 0.16278595 0.16973039 0.17810458 0.17034314\n",
            " 0.16830065 0.17279412 0.17544935 0.18382353 0.19138072 0.18913399\n",
            " 0.19097222 0.17238562 0.16830065 0.1693219  0.17177288 0.16156046\n",
            " 0.14971405 0.1503268  0.15196078 0.14726307 0.14501634 0.14603758\n",
            " 0.12479575 0.13112745 0.11397059 0.1190768  0.12377451 0.13562092\n",
            " 0.12908497 0.13459967 0.12806373 0.13031046 0.12724673 0.13521242\n",
            " 0.14522059 0.15257353 0.14848856 0.14338235 0.14562908 0.15236928\n",
            " 0.15400327 0.14971405 0.1621732  0.16319444 0.16584967 0.16017017\n",
            " 0.1620122  0.16345307 0.16454817 0.16539781 0.16609274 0.16669771\n",
            " 0.16725308 0.16778161 0.16829525 0.16879992 0.16929863 0.16979297\n",
            " 0.17028381 0.17077164 0.1712566  0.17173861 0.17221729 0.17269215\n",
            " 0.17316248 0.17362761 0.17408678 0.17453928]\n",
            "24 day output [[0.1749845]]\n",
            "25 day input [0.17708333 0.17810458 0.18055556 0.17810458 0.17851307 0.19607843\n",
            " 0.18913399 0.18954248 0.19403595 0.19444444 0.20200163 0.19771242\n",
            " 0.19934641 0.19873366 0.1997549  0.2128268  0.21568627 0.20445261\n",
            " 0.21772876 0.21098856 0.21425654 0.19750817 0.18811275 0.17851307\n",
            " 0.17381536 0.16033497 0.16564542 0.17116013 0.17422386 0.18035131\n",
            " 0.17401961 0.16278595 0.16973039 0.17810458 0.17034314 0.16830065\n",
            " 0.17279412 0.17544935 0.18382353 0.19138072 0.18913399 0.19097222\n",
            " 0.17238562 0.16830065 0.1693219  0.17177288 0.16156046 0.14971405\n",
            " 0.1503268  0.15196078 0.14726307 0.14501634 0.14603758 0.12479575\n",
            " 0.13112745 0.11397059 0.1190768  0.12377451 0.13562092 0.12908497\n",
            " 0.13459967 0.12806373 0.13031046 0.12724673 0.13521242 0.14522059\n",
            " 0.15257353 0.14848856 0.14338235 0.14562908 0.15236928 0.15400327\n",
            " 0.14971405 0.1621732  0.16319444 0.16584967 0.16017017 0.1620122\n",
            " 0.16345307 0.16454817 0.16539781 0.16609274 0.16669771 0.16725308\n",
            " 0.16778161 0.16829525 0.16879992 0.16929863 0.16979297 0.17028381\n",
            " 0.17077164 0.1712566  0.17173861 0.17221729 0.17269215 0.17316248\n",
            " 0.17362761 0.17408678 0.17453928 0.1749845 ]\n",
            "25 day output [[0.17542182]]\n",
            "26 day input [0.17810458 0.18055556 0.17810458 0.17851307 0.19607843 0.18913399\n",
            " 0.18954248 0.19403595 0.19444444 0.20200163 0.19771242 0.19934641\n",
            " 0.19873366 0.1997549  0.2128268  0.21568627 0.20445261 0.21772876\n",
            " 0.21098856 0.21425654 0.19750817 0.18811275 0.17851307 0.17381536\n",
            " 0.16033497 0.16564542 0.17116013 0.17422386 0.18035131 0.17401961\n",
            " 0.16278595 0.16973039 0.17810458 0.17034314 0.16830065 0.17279412\n",
            " 0.17544935 0.18382353 0.19138072 0.18913399 0.19097222 0.17238562\n",
            " 0.16830065 0.1693219  0.17177288 0.16156046 0.14971405 0.1503268\n",
            " 0.15196078 0.14726307 0.14501634 0.14603758 0.12479575 0.13112745\n",
            " 0.11397059 0.1190768  0.12377451 0.13562092 0.12908497 0.13459967\n",
            " 0.12806373 0.13031046 0.12724673 0.13521242 0.14522059 0.15257353\n",
            " 0.14848856 0.14338235 0.14562908 0.15236928 0.15400327 0.14971405\n",
            " 0.1621732  0.16319444 0.16584967 0.16017017 0.1620122  0.16345307\n",
            " 0.16454817 0.16539781 0.16609274 0.16669771 0.16725308 0.16778161\n",
            " 0.16829525 0.16879992 0.16929863 0.16979297 0.17028381 0.17077164\n",
            " 0.1712566  0.17173861 0.17221729 0.17269215 0.17316248 0.17362761\n",
            " 0.17408678 0.17453928 0.1749845  0.17542182]\n",
            "26 day output [[0.1758508]]\n",
            "27 day input [0.18055556 0.17810458 0.17851307 0.19607843 0.18913399 0.18954248\n",
            " 0.19403595 0.19444444 0.20200163 0.19771242 0.19934641 0.19873366\n",
            " 0.1997549  0.2128268  0.21568627 0.20445261 0.21772876 0.21098856\n",
            " 0.21425654 0.19750817 0.18811275 0.17851307 0.17381536 0.16033497\n",
            " 0.16564542 0.17116013 0.17422386 0.18035131 0.17401961 0.16278595\n",
            " 0.16973039 0.17810458 0.17034314 0.16830065 0.17279412 0.17544935\n",
            " 0.18382353 0.19138072 0.18913399 0.19097222 0.17238562 0.16830065\n",
            " 0.1693219  0.17177288 0.16156046 0.14971405 0.1503268  0.15196078\n",
            " 0.14726307 0.14501634 0.14603758 0.12479575 0.13112745 0.11397059\n",
            " 0.1190768  0.12377451 0.13562092 0.12908497 0.13459967 0.12806373\n",
            " 0.13031046 0.12724673 0.13521242 0.14522059 0.15257353 0.14848856\n",
            " 0.14338235 0.14562908 0.15236928 0.15400327 0.14971405 0.1621732\n",
            " 0.16319444 0.16584967 0.16017017 0.1620122  0.16345307 0.16454817\n",
            " 0.16539781 0.16609274 0.16669771 0.16725308 0.16778161 0.16829525\n",
            " 0.16879992 0.16929863 0.16979297 0.17028381 0.17077164 0.1712566\n",
            " 0.17173861 0.17221729 0.17269215 0.17316248 0.17362761 0.17408678\n",
            " 0.17453928 0.1749845  0.17542182 0.17585079]\n",
            "27 day output [[0.17627099]]\n",
            "28 day input [0.17810458 0.17851307 0.19607843 0.18913399 0.18954248 0.19403595\n",
            " 0.19444444 0.20200163 0.19771242 0.19934641 0.19873366 0.1997549\n",
            " 0.2128268  0.21568627 0.20445261 0.21772876 0.21098856 0.21425654\n",
            " 0.19750817 0.18811275 0.17851307 0.17381536 0.16033497 0.16564542\n",
            " 0.17116013 0.17422386 0.18035131 0.17401961 0.16278595 0.16973039\n",
            " 0.17810458 0.17034314 0.16830065 0.17279412 0.17544935 0.18382353\n",
            " 0.19138072 0.18913399 0.19097222 0.17238562 0.16830065 0.1693219\n",
            " 0.17177288 0.16156046 0.14971405 0.1503268  0.15196078 0.14726307\n",
            " 0.14501634 0.14603758 0.12479575 0.13112745 0.11397059 0.1190768\n",
            " 0.12377451 0.13562092 0.12908497 0.13459967 0.12806373 0.13031046\n",
            " 0.12724673 0.13521242 0.14522059 0.15257353 0.14848856 0.14338235\n",
            " 0.14562908 0.15236928 0.15400327 0.14971405 0.1621732  0.16319444\n",
            " 0.16584967 0.16017017 0.1620122  0.16345307 0.16454817 0.16539781\n",
            " 0.16609274 0.16669771 0.16725308 0.16778161 0.16829525 0.16879992\n",
            " 0.16929863 0.16979297 0.17028381 0.17077164 0.1712566  0.17173861\n",
            " 0.17221729 0.17269215 0.17316248 0.17362761 0.17408678 0.17453928\n",
            " 0.1749845  0.17542182 0.17585079 0.17627099]\n",
            "28 day output [[0.17668216]]\n",
            "29 day input [0.17851307 0.19607843 0.18913399 0.18954248 0.19403595 0.19444444\n",
            " 0.20200163 0.19771242 0.19934641 0.19873366 0.1997549  0.2128268\n",
            " 0.21568627 0.20445261 0.21772876 0.21098856 0.21425654 0.19750817\n",
            " 0.18811275 0.17851307 0.17381536 0.16033497 0.16564542 0.17116013\n",
            " 0.17422386 0.18035131 0.17401961 0.16278595 0.16973039 0.17810458\n",
            " 0.17034314 0.16830065 0.17279412 0.17544935 0.18382353 0.19138072\n",
            " 0.18913399 0.19097222 0.17238562 0.16830065 0.1693219  0.17177288\n",
            " 0.16156046 0.14971405 0.1503268  0.15196078 0.14726307 0.14501634\n",
            " 0.14603758 0.12479575 0.13112745 0.11397059 0.1190768  0.12377451\n",
            " 0.13562092 0.12908497 0.13459967 0.12806373 0.13031046 0.12724673\n",
            " 0.13521242 0.14522059 0.15257353 0.14848856 0.14338235 0.14562908\n",
            " 0.15236928 0.15400327 0.14971405 0.1621732  0.16319444 0.16584967\n",
            " 0.16017017 0.1620122  0.16345307 0.16454817 0.16539781 0.16609274\n",
            " 0.16669771 0.16725308 0.16778161 0.16829525 0.16879992 0.16929863\n",
            " 0.16979297 0.17028381 0.17077164 0.1712566  0.17173861 0.17221729\n",
            " 0.17269215 0.17316248 0.17362761 0.17408678 0.17453928 0.1749845\n",
            " 0.17542182 0.17585079 0.17627099 0.17668216]\n",
            "29 day output [[0.17708407]]\n",
            "30 day input [0.19607843 0.18913399 0.18954248 0.19403595 0.19444444 0.20200163\n",
            " 0.19771242 0.19934641 0.19873366 0.1997549  0.2128268  0.21568627\n",
            " 0.20445261 0.21772876 0.21098856 0.21425654 0.19750817 0.18811275\n",
            " 0.17851307 0.17381536 0.16033497 0.16564542 0.17116013 0.17422386\n",
            " 0.18035131 0.17401961 0.16278595 0.16973039 0.17810458 0.17034314\n",
            " 0.16830065 0.17279412 0.17544935 0.18382353 0.19138072 0.18913399\n",
            " 0.19097222 0.17238562 0.16830065 0.1693219  0.17177288 0.16156046\n",
            " 0.14971405 0.1503268  0.15196078 0.14726307 0.14501634 0.14603758\n",
            " 0.12479575 0.13112745 0.11397059 0.1190768  0.12377451 0.13562092\n",
            " 0.12908497 0.13459967 0.12806373 0.13031046 0.12724673 0.13521242\n",
            " 0.14522059 0.15257353 0.14848856 0.14338235 0.14562908 0.15236928\n",
            " 0.15400327 0.14971405 0.1621732  0.16319444 0.16584967 0.16017017\n",
            " 0.1620122  0.16345307 0.16454817 0.16539781 0.16609274 0.16669771\n",
            " 0.16725308 0.16778161 0.16829525 0.16879992 0.16929863 0.16979297\n",
            " 0.17028381 0.17077164 0.1712566  0.17173861 0.17221729 0.17269215\n",
            " 0.17316248 0.17362761 0.17408678 0.17453928 0.1749845  0.17542182\n",
            " 0.17585079 0.17627099 0.17668216 0.17708407]\n",
            "30 day output [[0.1774766]]\n",
            "[[0.16017016768455505], [0.16201220452785492], [0.16345307230949402], [0.16454817354679108], [0.16539780795574188], [0.16609273850917816], [0.16669771075248718], [0.16725307703018188], [0.16778160631656647], [0.1682952493429184], [0.16879992187023163], [0.16929863393306732], [0.16979296505451202], [0.17028380930423737], [0.17077164351940155], [0.17125660181045532], [0.1717386096715927], [0.17221729457378387], [0.17269214987754822], [0.17316247522830963], [0.17362761497497559], [0.1740867793560028], [0.17453928291797638], [0.17498449981212616], [0.1754218190908432], [0.1758507937192917], [0.176270991563797], [0.17668215930461884], [0.1770840734243393], [0.17747659981250763]]\n"
          ]
        }
      ]
    },
    {
      "cell_type": "code",
      "metadata": {
        "colab": {
          "base_uri": "https://localhost:8080/",
          "height": 282
        },
        "id": "sprkWFopgizy",
        "outputId": "ca48a1a2-a58d-444d-f207-d1e98391c951"
      },
      "source": [
        "\n",
        "stock_data = stock_data1.tolist()\n",
        "stock_data.extend(final_output)\n",
        "stock_data = scaler.inverse_transform(stock_data).tolist()\n",
        "plt.plot(stock_data)"
      ],
      "execution_count": 31,
      "outputs": [
        {
          "output_type": "execute_result",
          "data": {
            "text/plain": [
              "[<matplotlib.lines.Line2D at 0x7f4e2dd559d0>]"
            ]
          },
          "metadata": {},
          "execution_count": 31
        },
        {
          "output_type": "display_data",
          "data": {
            "image/png": "[encoded data removed]",
            "text/plain": [
              "<Figure size 432x288 with 1 Axes>"
            ]
          },
          "metadata": {
            "needs_background": "light"
          }
        }
      ]
    },
    {
      "cell_type": "code",
      "metadata": {
        "id": "ogVGUiLigpkg"
      },
      "source": [
        ""
      ],
      "execution_count": null,
      "outputs": []
    }
  ]
}
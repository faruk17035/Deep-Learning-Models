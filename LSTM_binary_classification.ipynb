{
  "nbformat": 4,
  "nbformat_minor": 0,
  "metadata": {
    "colab": {
      "name": "LSTM binary classification.ipynb",
      "provenance": [],
      "collapsed_sections": [],
      "authorship_tag": "ABX9TyNWsjB7FneL5tEil2BdqL9s",
      "include_colab_link": true
    },
    "kernelspec": {
      "name": "python3",
      "display_name": "Python 3"
    },
    "language_info": {
      "name": "python"
    },
    "accelerator": "GPU"
  },
  "cells": [
    {
      "cell_type": "markdown",
      "metadata": {
        "id": "view-in-github",
        "colab_type": "text"
      },
      "source": [
        "<a href=\"https://colab.research.google.com/github/faruk17035/Deep-Learning-Models/blob/main/LSTM_binary_classification.ipynb\" target=\"_parent\"><img src=\"https://colab.research.google.com/assets/colab-badge.svg\" alt=\"Open In Colab\"/></a>"
      ]
    },
    {
      "cell_type": "code",
      "metadata": {
        "id": "dxSqDejLLx-0"
      },
      "source": [
        "import numpy as np\n",
        "import matplotlib.pyplot as plt\n",
        "import pandas as pd"
      ],
      "execution_count": 1,
      "outputs": []
    },
    {
      "cell_type": "code",
      "metadata": {
        "colab": {
          "base_uri": "https://localhost:8080/"
        },
        "id": "ZQ61_6k0MMRg",
        "outputId": "aafa9b32-fa7d-4198-b7c8-0f53580d1731"
      },
      "source": [
        "from google.colab import drive \n",
        "drive.mount('/content/gdrive')"
      ],
      "execution_count": 2,
      "outputs": [
        {
          "output_type": "stream",
          "name": "stdout",
          "text": [
            "Mounted at /content/gdrive\n"
          ]
        }
      ]
    },
    {
      "cell_type": "code",
      "metadata": {
        "colab": {
          "base_uri": "https://localhost:8080/"
        },
        "id": "YOZqIWzgMZfZ",
        "outputId": "fa6bd992-586b-4335-902b-ce1a271312c5"
      },
      "source": [
        "import pandas as pd\n",
        "from pandas import read_excel\n",
        "file = '/content/gdrive/MyDrive/Gloveallghor.csv' \n",
        "df = pd.read_csv(file)\n",
        "print(df)"
      ],
      "execution_count": 26,
      "outputs": [
        {
          "output_type": "stream",
          "name": "stdout",
          "text": [
            "          tpc0      tpc1      tpc2  ...    tpc510    tpc511  Target\n",
            "0    -0.000004 -0.026288  0.057258  ...  0.122821 -0.076334       0\n",
            "1    -0.052125  0.002777  0.055245  ...  0.113405 -0.034552       1\n",
            "2    -0.036938 -0.040373  0.074364  ...  0.150060 -0.062847       0\n",
            "3    -0.007257 -0.031773  0.035037  ...  0.123129 -0.058323       0\n",
            "4     0.035118 -0.039462  0.075805  ...  0.136574 -0.083851       1\n",
            "...        ...       ...       ...  ...       ...       ...     ...\n",
            "2099 -0.024084 -0.038977  0.045345  ...  0.133063 -0.077309       1\n",
            "2100 -0.040395 -0.015846  0.046104  ...  0.128894 -0.050292       1\n",
            "2101 -0.021230 -0.021154  0.059532  ...  0.119205 -0.055102       1\n",
            "2102 -0.011558 -0.019526  0.055057  ...  0.153210 -0.068933       1\n",
            "2103 -0.048000 -0.024602  0.039493  ...  0.124544 -0.066235       1\n",
            "\n",
            "[2104 rows x 513 columns]\n"
          ]
        }
      ]
    },
    {
      "cell_type": "code",
      "metadata": {
        "id": "twHo4DgnMvs-"
      },
      "source": [
        "features = np.array(df.columns[:-1])\n",
        "target = 'Target'\n",
        "\n",
        "X = df[features]\n",
        "y = df[target]\n",
        "\n",
        "from sklearn.model_selection import train_test_split\n",
        "X_train, X_test, y_train, y_test = train_test_split(X, y, test_size = 0.20, random_state = 20)"
      ],
      "execution_count": 27,
      "outputs": []
    },
    {
      "cell_type": "code",
      "metadata": {
        "colab": {
          "base_uri": "https://localhost:8080/"
        },
        "id": "Stu77yM5PuOn",
        "outputId": "1d07a44d-18a0-461b-ff06-60b5fc774c2a"
      },
      "source": [
        "X_train.shape"
      ],
      "execution_count": 28,
      "outputs": [
        {
          "output_type": "execute_result",
          "data": {
            "text/plain": [
              "(1683, 512)"
            ]
          },
          "metadata": {},
          "execution_count": 28
        }
      ]
    },
    {
      "cell_type": "code",
      "metadata": {
        "colab": {
          "base_uri": "https://localhost:8080/"
        },
        "id": "xdy1mKYbQswU",
        "outputId": "67a8bb45-7f82-4a2e-cedb-fc9ed7a9b730"
      },
      "source": [
        "X_test.shape"
      ],
      "execution_count": 29,
      "outputs": [
        {
          "output_type": "execute_result",
          "data": {
            "text/plain": [
              "(421, 512)"
            ]
          },
          "metadata": {},
          "execution_count": 29
        }
      ]
    },
    {
      "cell_type": "code",
      "metadata": {
        "id": "STfwU5-ZNSrL"
      },
      "source": [
        "from sklearn.model_selection import train_test_split\n",
        "from keras.models import Sequential\n",
        "from keras.preprocessing.text import Tokenizer\n",
        "from matplotlib import pyplot as plt\n",
        "from keras.preprocessing.sequence import pad_sequences\n",
        "from keras.layers import Embedding,Dense,LSTM,Dropout,Flatten,BatchNormalization,Conv1D,GlobalMaxPooling1D,MaxPooling1D\n",
        "from tensorflow.keras.optimizers import Adam\n",
        "import matplotlib.pyplot as plt\n",
        "from keras.regularizers import l2\n",
        "from keras import regularizers\n",
        "from keras.callbacks import EarlyStopping\n",
        "from sklearn.preprocessing import OneHotEncoder\n",
        "from keras.preprocessing import sequence\n",
        "#from hyperas.distributions import uniform\n",
        "\n",
        "from keras.utils.np_utils import to_categorical\n",
        "from keras import regularizers\n",
        "import pandas as pd\n",
        "import string\n",
        "import numpy as np\n",
        "import matplotlib.pyplot as plt\n",
        "\n",
        "import os"
      ],
      "execution_count": 30,
      "outputs": []
    },
    {
      "cell_type": "code",
      "metadata": {
        "id": "MehksCveTbmX"
      },
      "source": [
        "## Normalize the data\n",
        "from sklearn.preprocessing import MinMaxScaler\n",
        "scaler = MinMaxScaler(feature_range=(0,1))\n",
        "X_train = scaler.fit_transform(X_train)\n",
        "X_test  = scaler.transform(X_test)"
      ],
      "execution_count": 31,
      "outputs": []
    },
    {
      "cell_type": "code",
      "metadata": {
        "colab": {
          "base_uri": "https://localhost:8080/"
        },
        "id": "hYRzdewfTTFo",
        "outputId": "e2e586ae-5079-4caa-d3b5-40d25b855254"
      },
      "source": [
        "def build_model():\n",
        "\n",
        "  opt = Adam(lr=0.00001)\n",
        "\n",
        "  model = Sequential()\n",
        "  model.add(LSTM(units = 128, return_sequences = True, input_shape = (X_train.shape[1], 1)))\n",
        "  model.add(Dropout(0.2))\n",
        "  model.add(LSTM(units = 128, return_sequences = True))\n",
        "  model.add(Dropout(0.2))\n",
        "  model.add(LSTM(units = 50))\n",
        "  model.add(Dropout(0.2))\n",
        "  model.add(Dense(1, activation='sigmoid'))\n",
        "  model.compile(loss='binary_crossentropy', optimizer=opt, metrics=['accuracy'])\n",
        "  return model\n",
        "\n",
        "model_lstm=build_model()"
      ],
      "execution_count": 36,
      "outputs": [
        {
          "output_type": "stream",
          "name": "stderr",
          "text": [
            "/usr/local/lib/python3.7/dist-packages/keras/optimizer_v2/optimizer_v2.py:356: UserWarning: The `lr` argument is deprecated, use `learning_rate` instead.\n",
            "  \"The `lr` argument is deprecated, use `learning_rate` instead.\")\n"
          ]
        }
      ]
    },
    {
      "cell_type": "code",
      "metadata": {
        "id": "MaPoe5LeQkT2"
      },
      "source": [
        "X_train = X_train.reshape(1683, 512,1)\n",
        "X_test = X_test.reshape(421, 512, 1)"
      ],
      "execution_count": 37,
      "outputs": []
    },
    {
      "cell_type": "code",
      "metadata": {
        "colab": {
          "base_uri": "https://localhost:8080/"
        },
        "id": "Qg5NKQ4kOIcj",
        "outputId": "d9b82050-05b9-4c9a-fa94-7f42aa2efd6c"
      },
      "source": [
        "#es = EarlyStopping(monitor='val_loss', mode='min',patience=5)\n",
        "#es = EarlyStopping(monitor='val_loss')\n",
        "history_lstm = model_lstm.fit(X_train, y_train, epochs=10,batch_size=300,validation_data=(X_test,y_test))"
      ],
      "execution_count": 39,
      "outputs": [
        {
          "output_type": "stream",
          "name": "stdout",
          "text": [
            "Epoch 1/10\n",
            "6/6 [==============================] - 3s 436ms/step - loss: 0.6932 - accuracy: 0.4997 - val_loss: 0.6931 - val_accuracy: 0.5059\n",
            "Epoch 2/10\n",
            "6/6 [==============================] - 3s 428ms/step - loss: 0.6931 - accuracy: 0.4997 - val_loss: 0.6931 - val_accuracy: 0.5059\n",
            "Epoch 3/10\n",
            "6/6 [==============================] - 3s 429ms/step - loss: 0.6933 - accuracy: 0.4884 - val_loss: 0.6931 - val_accuracy: 0.5059\n",
            "Epoch 4/10\n",
            "6/6 [==============================] - 3s 425ms/step - loss: 0.6931 - accuracy: 0.4938 - val_loss: 0.6931 - val_accuracy: 0.5059\n",
            "Epoch 5/10\n",
            "6/6 [==============================] - 3s 427ms/step - loss: 0.6929 - accuracy: 0.5181 - val_loss: 0.6931 - val_accuracy: 0.5059\n",
            "Epoch 6/10\n",
            "6/6 [==============================] - 3s 427ms/step - loss: 0.6930 - accuracy: 0.5104 - val_loss: 0.6931 - val_accuracy: 0.4964\n",
            "Epoch 7/10\n",
            "6/6 [==============================] - 3s 433ms/step - loss: 0.6930 - accuracy: 0.5187 - val_loss: 0.6931 - val_accuracy: 0.4941\n",
            "Epoch 8/10\n",
            "6/6 [==============================] - 3s 431ms/step - loss: 0.6929 - accuracy: 0.5134 - val_loss: 0.6932 - val_accuracy: 0.4941\n",
            "Epoch 9/10\n",
            "6/6 [==============================] - 3s 425ms/step - loss: 0.6933 - accuracy: 0.4819 - val_loss: 0.6932 - val_accuracy: 0.4941\n",
            "Epoch 10/10\n",
            "6/6 [==============================] - 3s 426ms/step - loss: 0.6932 - accuracy: 0.4938 - val_loss: 0.6932 - val_accuracy: 0.4941\n"
          ]
        }
      ]
    },
    {
      "cell_type": "code",
      "metadata": {
        "colab": {
          "base_uri": "https://localhost:8080/",
          "height": 421
        },
        "id": "cR46FV9SPd3H",
        "outputId": "6117c26e-a8aa-4763-f0a6-a146f7390dc0"
      },
      "source": [
        "fig, axes = plt.subplots(1, 2, figsize = (16,6))\n",
        "axes[0].plot(history_lstm.history['accuracy'])\n",
        "axes[0].plot(history_lstm.history['val_accuracy'],'--')\n",
        "axes[0].set_title('model accuracy')\n",
        "axes[0].set_ylabel('accuracy')\n",
        "axes[0].set_xlabel('epoch')\n",
        "axes[0].legend(['train', 'val'], loc='lower right')\n",
        "\n",
        "axes[1].plot(history_lstm.history['loss'])\n",
        "axes[1].plot(history_lstm.history['val_loss'],\"--\")\n",
        "axes[1].set_title('model loss')\n",
        "axes[1].set_ylabel('accuracy')\n",
        "axes[1].set_xlabel('epoch')\n",
        "axes[1].legend(['val_loss', 'loss'], loc='lower right')"
      ],
      "execution_count": 40,
      "outputs": [
        {
          "output_type": "execute_result",
          "data": {
            "text/plain": [
              "<matplotlib.legend.Legend at 0x7f7cf7ef4ed0>"
            ]
          },
          "metadata": {},
          "execution_count": 40
        },
        {
          "output_type": "display_data",
          "data": {
            "image/png": "[encoded data removed]",
            "text/plain": [
              "<Figure size 1152x432 with 2 Axes>"
            ]
          },
          "metadata": {
            "needs_background": "light"
          }
        }
      ]
    },
    {
      "cell_type": "code",
      "metadata": {
        "id": "LEAWPNNgYYV9"
      },
      "source": [
        ""
      ],
      "execution_count": null,
      "outputs": []
    }
  ]
}